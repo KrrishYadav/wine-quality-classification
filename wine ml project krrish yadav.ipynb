{
 "cells": [
  {
   "cell_type": "markdown",
   "id": "4bf96a56",
   "metadata": {},
   "source": [
    "## Importing libraries"
   ]
  },
  {
   "cell_type": "code",
   "execution_count": 1,
   "id": "45215162",
   "metadata": {},
   "outputs": [],
   "source": [
    "import os\n",
    "import pandas as pd\n",
    "import numpy as np\n",
    "import matplotlib.pyplot as plt\n",
    "import seaborn as sns "
   ]
  },
  {
   "cell_type": "code",
   "execution_count": 2,
   "id": "f8880b60",
   "metadata": {},
   "outputs": [
    {
     "data": {
      "text/html": [
       "<div>\n",
       "<style scoped>\n",
       "    .dataframe tbody tr th:only-of-type {\n",
       "        vertical-align: middle;\n",
       "    }\n",
       "\n",
       "    .dataframe tbody tr th {\n",
       "        vertical-align: top;\n",
       "    }\n",
       "\n",
       "    .dataframe thead th {\n",
       "        text-align: right;\n",
       "    }\n",
       "</style>\n",
       "<table border=\"1\" class=\"dataframe\">\n",
       "  <thead>\n",
       "    <tr style=\"text-align: right;\">\n",
       "      <th></th>\n",
       "      <th>fixed acidity</th>\n",
       "      <th>volatile acidity</th>\n",
       "      <th>citric acid</th>\n",
       "      <th>residual sugar</th>\n",
       "      <th>chlorides</th>\n",
       "      <th>free sulfur dioxide</th>\n",
       "      <th>total sulfur dioxide</th>\n",
       "      <th>density</th>\n",
       "      <th>pH</th>\n",
       "      <th>sulphates</th>\n",
       "      <th>alcohol</th>\n",
       "      <th>quality</th>\n",
       "    </tr>\n",
       "  </thead>\n",
       "  <tbody>\n",
       "    <tr>\n",
       "      <th>0</th>\n",
       "      <td>7.4</td>\n",
       "      <td>0.70</td>\n",
       "      <td>0.00</td>\n",
       "      <td>1.9</td>\n",
       "      <td>0.076</td>\n",
       "      <td>11.0</td>\n",
       "      <td>34.0</td>\n",
       "      <td>0.9978</td>\n",
       "      <td>3.51</td>\n",
       "      <td>0.56</td>\n",
       "      <td>9.4</td>\n",
       "      <td>5</td>\n",
       "    </tr>\n",
       "    <tr>\n",
       "      <th>1</th>\n",
       "      <td>7.8</td>\n",
       "      <td>0.88</td>\n",
       "      <td>0.00</td>\n",
       "      <td>2.6</td>\n",
       "      <td>0.098</td>\n",
       "      <td>25.0</td>\n",
       "      <td>67.0</td>\n",
       "      <td>0.9968</td>\n",
       "      <td>3.20</td>\n",
       "      <td>0.68</td>\n",
       "      <td>9.8</td>\n",
       "      <td>5</td>\n",
       "    </tr>\n",
       "    <tr>\n",
       "      <th>2</th>\n",
       "      <td>7.8</td>\n",
       "      <td>0.76</td>\n",
       "      <td>0.04</td>\n",
       "      <td>2.3</td>\n",
       "      <td>0.092</td>\n",
       "      <td>15.0</td>\n",
       "      <td>54.0</td>\n",
       "      <td>0.9970</td>\n",
       "      <td>3.26</td>\n",
       "      <td>0.65</td>\n",
       "      <td>9.8</td>\n",
       "      <td>5</td>\n",
       "    </tr>\n",
       "    <tr>\n",
       "      <th>3</th>\n",
       "      <td>11.2</td>\n",
       "      <td>0.28</td>\n",
       "      <td>0.56</td>\n",
       "      <td>1.9</td>\n",
       "      <td>0.075</td>\n",
       "      <td>17.0</td>\n",
       "      <td>60.0</td>\n",
       "      <td>0.9980</td>\n",
       "      <td>3.16</td>\n",
       "      <td>0.58</td>\n",
       "      <td>9.8</td>\n",
       "      <td>6</td>\n",
       "    </tr>\n",
       "    <tr>\n",
       "      <th>4</th>\n",
       "      <td>7.4</td>\n",
       "      <td>0.70</td>\n",
       "      <td>0.00</td>\n",
       "      <td>1.9</td>\n",
       "      <td>0.076</td>\n",
       "      <td>11.0</td>\n",
       "      <td>34.0</td>\n",
       "      <td>0.9978</td>\n",
       "      <td>3.51</td>\n",
       "      <td>0.56</td>\n",
       "      <td>9.4</td>\n",
       "      <td>5</td>\n",
       "    </tr>\n",
       "  </tbody>\n",
       "</table>\n",
       "</div>"
      ],
      "text/plain": [
       "   fixed acidity  volatile acidity  citric acid  residual sugar  chlorides  \\\n",
       "0            7.4              0.70         0.00             1.9      0.076   \n",
       "1            7.8              0.88         0.00             2.6      0.098   \n",
       "2            7.8              0.76         0.04             2.3      0.092   \n",
       "3           11.2              0.28         0.56             1.9      0.075   \n",
       "4            7.4              0.70         0.00             1.9      0.076   \n",
       "\n",
       "   free sulfur dioxide  total sulfur dioxide  density    pH  sulphates  \\\n",
       "0                 11.0                  34.0   0.9978  3.51       0.56   \n",
       "1                 25.0                  67.0   0.9968  3.20       0.68   \n",
       "2                 15.0                  54.0   0.9970  3.26       0.65   \n",
       "3                 17.0                  60.0   0.9980  3.16       0.58   \n",
       "4                 11.0                  34.0   0.9978  3.51       0.56   \n",
       "\n",
       "   alcohol  quality  \n",
       "0      9.4        5  \n",
       "1      9.8        5  \n",
       "2      9.8        5  \n",
       "3      9.8        6  \n",
       "4      9.4        5  "
      ]
     },
     "execution_count": 2,
     "metadata": {},
     "output_type": "execute_result"
    }
   ],
   "source": [
    "# loading the dataset and reading the first 5 rows.\n",
    "wine = pd.read_csv('C:/Users/krrish/Downloads/winequality-red1.csv')\n",
    "wine.head()"
   ]
  },
  {
   "cell_type": "code",
   "execution_count": 3,
   "id": "be666630",
   "metadata": {},
   "outputs": [
    {
     "data": {
      "text/plain": [
       "(1599, 12)"
      ]
     },
     "execution_count": 3,
     "metadata": {},
     "output_type": "execute_result"
    }
   ],
   "source": [
    "wine.shape"
   ]
  },
  {
   "cell_type": "markdown",
   "id": "93c149f6",
   "metadata": {},
   "source": [
    "As we can see, the name of some columns contains spaces, which is something we do not really want when treating data, this is why we are going to replace these spaces with \"_\"."
   ]
  },
  {
   "cell_type": "code",
   "execution_count": 4,
   "id": "d6adf80b",
   "metadata": {},
   "outputs": [],
   "source": [
    "#Replace spaces with _ for each column\n",
    "wine.columns = wine.columns.str.replace(' ', '_')"
   ]
  },
  {
   "cell_type": "code",
   "execution_count": 5,
   "id": "2d1e2a87",
   "metadata": {},
   "outputs": [
    {
     "name": "stdout",
     "output_type": "stream",
     "text": [
      "<class 'pandas.core.frame.DataFrame'>\n",
      "RangeIndex: 1599 entries, 0 to 1598\n",
      "Data columns (total 12 columns):\n",
      " #   Column                Non-Null Count  Dtype  \n",
      "---  ------                --------------  -----  \n",
      " 0   fixed_acidity         1599 non-null   float64\n",
      " 1   volatile_acidity      1599 non-null   float64\n",
      " 2   citric_acid           1599 non-null   float64\n",
      " 3   residual_sugar        1599 non-null   float64\n",
      " 4   chlorides             1599 non-null   float64\n",
      " 5   free_sulfur_dioxide   1599 non-null   float64\n",
      " 6   total_sulfur_dioxide  1599 non-null   float64\n",
      " 7   density               1599 non-null   float64\n",
      " 8   pH                    1599 non-null   float64\n",
      " 9   sulphates             1599 non-null   float64\n",
      " 10  alcohol               1599 non-null   float64\n",
      " 11  quality               1599 non-null   int64  \n",
      "dtypes: float64(11), int64(1)\n",
      "memory usage: 150.0 KB\n"
     ]
    }
   ],
   "source": [
    "wine.info()"
   ]
  },
  {
   "cell_type": "markdown",
   "id": "2b47150d",
   "metadata": {},
   "source": [
    "## EDA"
   ]
  },
  {
   "cell_type": "code",
   "execution_count": 6,
   "id": "2eb33af5",
   "metadata": {},
   "outputs": [
    {
     "data": {
      "text/plain": [
       "fixed_acidity           0\n",
       "volatile_acidity        0\n",
       "citric_acid             0\n",
       "residual_sugar          0\n",
       "chlorides               0\n",
       "free_sulfur_dioxide     0\n",
       "total_sulfur_dioxide    0\n",
       "density                 0\n",
       "pH                      0\n",
       "sulphates               0\n",
       "alcohol                 0\n",
       "quality                 0\n",
       "dtype: int64"
      ]
     },
     "execution_count": 6,
     "metadata": {},
     "output_type": "execute_result"
    }
   ],
   "source": [
    "#We check for missing values\n",
    "wine.isnull().sum()"
   ]
  },
  {
   "cell_type": "markdown",
   "id": "2710b090",
   "metadata": {},
   "source": [
    "No missing values in the dataset."
   ]
  },
  {
   "cell_type": "code",
   "execution_count": 7,
   "id": "57caf50d",
   "metadata": {},
   "outputs": [
    {
     "data": {
      "text/plain": [
       "240"
      ]
     },
     "execution_count": 7,
     "metadata": {},
     "output_type": "execute_result"
    }
   ],
   "source": [
    "#We check for duplicate values\n",
    "wine.duplicated().sum()"
   ]
  },
  {
   "cell_type": "code",
   "execution_count": 8,
   "id": "6c6075e9",
   "metadata": {},
   "outputs": [
    {
     "data": {
      "text/html": [
       "<div>\n",
       "<style scoped>\n",
       "    .dataframe tbody tr th:only-of-type {\n",
       "        vertical-align: middle;\n",
       "    }\n",
       "\n",
       "    .dataframe tbody tr th {\n",
       "        vertical-align: top;\n",
       "    }\n",
       "\n",
       "    .dataframe thead th {\n",
       "        text-align: right;\n",
       "    }\n",
       "</style>\n",
       "<table border=\"1\" class=\"dataframe\">\n",
       "  <thead>\n",
       "    <tr style=\"text-align: right;\">\n",
       "      <th></th>\n",
       "      <th>fixed_acidity</th>\n",
       "      <th>volatile_acidity</th>\n",
       "      <th>citric_acid</th>\n",
       "      <th>residual_sugar</th>\n",
       "      <th>chlorides</th>\n",
       "      <th>free_sulfur_dioxide</th>\n",
       "      <th>total_sulfur_dioxide</th>\n",
       "      <th>density</th>\n",
       "      <th>pH</th>\n",
       "      <th>sulphates</th>\n",
       "      <th>alcohol</th>\n",
       "      <th>quality</th>\n",
       "    </tr>\n",
       "  </thead>\n",
       "  <tbody>\n",
       "    <tr>\n",
       "      <th>4</th>\n",
       "      <td>7.4</td>\n",
       "      <td>0.700</td>\n",
       "      <td>0.00</td>\n",
       "      <td>1.90</td>\n",
       "      <td>0.076</td>\n",
       "      <td>11.0</td>\n",
       "      <td>34.0</td>\n",
       "      <td>0.99780</td>\n",
       "      <td>3.51</td>\n",
       "      <td>0.56</td>\n",
       "      <td>9.4</td>\n",
       "      <td>5</td>\n",
       "    </tr>\n",
       "    <tr>\n",
       "      <th>11</th>\n",
       "      <td>7.5</td>\n",
       "      <td>0.500</td>\n",
       "      <td>0.36</td>\n",
       "      <td>6.10</td>\n",
       "      <td>0.071</td>\n",
       "      <td>17.0</td>\n",
       "      <td>102.0</td>\n",
       "      <td>0.99780</td>\n",
       "      <td>3.35</td>\n",
       "      <td>0.80</td>\n",
       "      <td>10.5</td>\n",
       "      <td>5</td>\n",
       "    </tr>\n",
       "    <tr>\n",
       "      <th>27</th>\n",
       "      <td>7.9</td>\n",
       "      <td>0.430</td>\n",
       "      <td>0.21</td>\n",
       "      <td>1.60</td>\n",
       "      <td>0.106</td>\n",
       "      <td>10.0</td>\n",
       "      <td>37.0</td>\n",
       "      <td>0.99660</td>\n",
       "      <td>3.17</td>\n",
       "      <td>0.91</td>\n",
       "      <td>9.5</td>\n",
       "      <td>5</td>\n",
       "    </tr>\n",
       "    <tr>\n",
       "      <th>40</th>\n",
       "      <td>7.3</td>\n",
       "      <td>0.450</td>\n",
       "      <td>0.36</td>\n",
       "      <td>5.90</td>\n",
       "      <td>0.074</td>\n",
       "      <td>12.0</td>\n",
       "      <td>87.0</td>\n",
       "      <td>0.99780</td>\n",
       "      <td>3.33</td>\n",
       "      <td>0.83</td>\n",
       "      <td>10.5</td>\n",
       "      <td>5</td>\n",
       "    </tr>\n",
       "    <tr>\n",
       "      <th>65</th>\n",
       "      <td>7.2</td>\n",
       "      <td>0.725</td>\n",
       "      <td>0.05</td>\n",
       "      <td>4.65</td>\n",
       "      <td>0.086</td>\n",
       "      <td>4.0</td>\n",
       "      <td>11.0</td>\n",
       "      <td>0.99620</td>\n",
       "      <td>3.41</td>\n",
       "      <td>0.39</td>\n",
       "      <td>10.9</td>\n",
       "      <td>5</td>\n",
       "    </tr>\n",
       "    <tr>\n",
       "      <th>...</th>\n",
       "      <td>...</td>\n",
       "      <td>...</td>\n",
       "      <td>...</td>\n",
       "      <td>...</td>\n",
       "      <td>...</td>\n",
       "      <td>...</td>\n",
       "      <td>...</td>\n",
       "      <td>...</td>\n",
       "      <td>...</td>\n",
       "      <td>...</td>\n",
       "      <td>...</td>\n",
       "      <td>...</td>\n",
       "    </tr>\n",
       "    <tr>\n",
       "      <th>1563</th>\n",
       "      <td>7.2</td>\n",
       "      <td>0.695</td>\n",
       "      <td>0.13</td>\n",
       "      <td>2.00</td>\n",
       "      <td>0.076</td>\n",
       "      <td>12.0</td>\n",
       "      <td>20.0</td>\n",
       "      <td>0.99546</td>\n",
       "      <td>3.29</td>\n",
       "      <td>0.54</td>\n",
       "      <td>10.1</td>\n",
       "      <td>5</td>\n",
       "    </tr>\n",
       "    <tr>\n",
       "      <th>1564</th>\n",
       "      <td>7.2</td>\n",
       "      <td>0.695</td>\n",
       "      <td>0.13</td>\n",
       "      <td>2.00</td>\n",
       "      <td>0.076</td>\n",
       "      <td>12.0</td>\n",
       "      <td>20.0</td>\n",
       "      <td>0.99546</td>\n",
       "      <td>3.29</td>\n",
       "      <td>0.54</td>\n",
       "      <td>10.1</td>\n",
       "      <td>5</td>\n",
       "    </tr>\n",
       "    <tr>\n",
       "      <th>1567</th>\n",
       "      <td>7.2</td>\n",
       "      <td>0.695</td>\n",
       "      <td>0.13</td>\n",
       "      <td>2.00</td>\n",
       "      <td>0.076</td>\n",
       "      <td>12.0</td>\n",
       "      <td>20.0</td>\n",
       "      <td>0.99546</td>\n",
       "      <td>3.29</td>\n",
       "      <td>0.54</td>\n",
       "      <td>10.1</td>\n",
       "      <td>5</td>\n",
       "    </tr>\n",
       "    <tr>\n",
       "      <th>1581</th>\n",
       "      <td>6.2</td>\n",
       "      <td>0.560</td>\n",
       "      <td>0.09</td>\n",
       "      <td>1.70</td>\n",
       "      <td>0.053</td>\n",
       "      <td>24.0</td>\n",
       "      <td>32.0</td>\n",
       "      <td>0.99402</td>\n",
       "      <td>3.54</td>\n",
       "      <td>0.60</td>\n",
       "      <td>11.3</td>\n",
       "      <td>5</td>\n",
       "    </tr>\n",
       "    <tr>\n",
       "      <th>1596</th>\n",
       "      <td>6.3</td>\n",
       "      <td>0.510</td>\n",
       "      <td>0.13</td>\n",
       "      <td>2.30</td>\n",
       "      <td>0.076</td>\n",
       "      <td>29.0</td>\n",
       "      <td>40.0</td>\n",
       "      <td>0.99574</td>\n",
       "      <td>3.42</td>\n",
       "      <td>0.75</td>\n",
       "      <td>11.0</td>\n",
       "      <td>6</td>\n",
       "    </tr>\n",
       "  </tbody>\n",
       "</table>\n",
       "<p>240 rows × 12 columns</p>\n",
       "</div>"
      ],
      "text/plain": [
       "      fixed_acidity  volatile_acidity  citric_acid  residual_sugar  chlorides  \\\n",
       "4               7.4             0.700         0.00            1.90      0.076   \n",
       "11              7.5             0.500         0.36            6.10      0.071   \n",
       "27              7.9             0.430         0.21            1.60      0.106   \n",
       "40              7.3             0.450         0.36            5.90      0.074   \n",
       "65              7.2             0.725         0.05            4.65      0.086   \n",
       "...             ...               ...          ...             ...        ...   \n",
       "1563            7.2             0.695         0.13            2.00      0.076   \n",
       "1564            7.2             0.695         0.13            2.00      0.076   \n",
       "1567            7.2             0.695         0.13            2.00      0.076   \n",
       "1581            6.2             0.560         0.09            1.70      0.053   \n",
       "1596            6.3             0.510         0.13            2.30      0.076   \n",
       "\n",
       "      free_sulfur_dioxide  total_sulfur_dioxide  density    pH  sulphates  \\\n",
       "4                    11.0                  34.0  0.99780  3.51       0.56   \n",
       "11                   17.0                 102.0  0.99780  3.35       0.80   \n",
       "27                   10.0                  37.0  0.99660  3.17       0.91   \n",
       "40                   12.0                  87.0  0.99780  3.33       0.83   \n",
       "65                    4.0                  11.0  0.99620  3.41       0.39   \n",
       "...                   ...                   ...      ...   ...        ...   \n",
       "1563                 12.0                  20.0  0.99546  3.29       0.54   \n",
       "1564                 12.0                  20.0  0.99546  3.29       0.54   \n",
       "1567                 12.0                  20.0  0.99546  3.29       0.54   \n",
       "1581                 24.0                  32.0  0.99402  3.54       0.60   \n",
       "1596                 29.0                  40.0  0.99574  3.42       0.75   \n",
       "\n",
       "      alcohol  quality  \n",
       "4         9.4        5  \n",
       "11       10.5        5  \n",
       "27        9.5        5  \n",
       "40       10.5        5  \n",
       "65       10.9        5  \n",
       "...       ...      ...  \n",
       "1563     10.1        5  \n",
       "1564     10.1        5  \n",
       "1567     10.1        5  \n",
       "1581     11.3        5  \n",
       "1596     11.0        6  \n",
       "\n",
       "[240 rows x 12 columns]"
      ]
     },
     "execution_count": 8,
     "metadata": {},
     "output_type": "execute_result"
    }
   ],
   "source": [
    "wine[wine.duplicated()]"
   ]
  },
  {
   "cell_type": "code",
   "execution_count": 9,
   "id": "eb4781da",
   "metadata": {},
   "outputs": [],
   "source": [
    "wine.drop_duplicates(inplace=True)"
   ]
  },
  {
   "cell_type": "code",
   "execution_count": 10,
   "id": "dbef7f02",
   "metadata": {},
   "outputs": [
    {
     "data": {
      "text/plain": [
       "(1359, 12)"
      ]
     },
     "execution_count": 10,
     "metadata": {},
     "output_type": "execute_result"
    }
   ],
   "source": [
    "wine.shape"
   ]
  },
  {
   "cell_type": "code",
   "execution_count": 11,
   "id": "8377e670",
   "metadata": {},
   "outputs": [
    {
     "data": {
      "text/plain": [
       "5    577\n",
       "6    535\n",
       "7    167\n",
       "4     53\n",
       "8     17\n",
       "3     10\n",
       "Name: quality, dtype: int64"
      ]
     },
     "execution_count": 11,
     "metadata": {},
     "output_type": "execute_result"
    }
   ],
   "source": [
    "wine['quality'].value_counts()"
   ]
  },
  {
   "cell_type": "code",
   "execution_count": 12,
   "id": "9c1ec2ad",
   "metadata": {},
   "outputs": [
    {
     "data": {
      "text/plain": [
       "Text(0.5, 1.0, 'Diversity of the quality of wine.')"
      ]
     },
     "execution_count": 12,
     "metadata": {},
     "output_type": "execute_result"
    },
    {
     "data": {
      "image/png": "[encoded data removed]",
      "text/plain": [
       "<Figure size 864x432 with 1 Axes>"
      ]
     },
     "metadata": {
      "needs_background": "light"
     },
     "output_type": "display_data"
    }
   ],
   "source": [
    "plt.figure(figsize=(12,6))\n",
    "sns.countplot(x='quality',data=wine, palette='rocket_r')\n",
    "plt.title(\"Diversity of the quality of wine.\", size =15)"
   ]
  },
  {
   "cell_type": "markdown",
   "id": "ae00893d",
   "metadata": {},
   "source": [
    "## outlier treatment"
   ]
  },
  {
   "cell_type": "code",
   "execution_count": 13,
   "id": "620ed87d",
   "metadata": {},
   "outputs": [
    {
     "data": {
      "text/html": [
       "<div>\n",
       "<style scoped>\n",
       "    .dataframe tbody tr th:only-of-type {\n",
       "        vertical-align: middle;\n",
       "    }\n",
       "\n",
       "    .dataframe tbody tr th {\n",
       "        vertical-align: top;\n",
       "    }\n",
       "\n",
       "    .dataframe thead th {\n",
       "        text-align: right;\n",
       "    }\n",
       "</style>\n",
       "<table border=\"1\" class=\"dataframe\">\n",
       "  <thead>\n",
       "    <tr style=\"text-align: right;\">\n",
       "      <th></th>\n",
       "      <th>count</th>\n",
       "      <th>mean</th>\n",
       "      <th>std</th>\n",
       "      <th>min</th>\n",
       "      <th>1%</th>\n",
       "      <th>10%</th>\n",
       "      <th>25%</th>\n",
       "      <th>50%</th>\n",
       "      <th>75%</th>\n",
       "      <th>90%</th>\n",
       "      <th>95%</th>\n",
       "      <th>96%</th>\n",
       "      <th>97%</th>\n",
       "      <th>98%</th>\n",
       "      <th>99%</th>\n",
       "      <th>max</th>\n",
       "    </tr>\n",
       "  </thead>\n",
       "  <tbody>\n",
       "    <tr>\n",
       "      <th>fixed_acidity</th>\n",
       "      <td>1359.0</td>\n",
       "      <td>8.310596</td>\n",
       "      <td>1.736990</td>\n",
       "      <td>4.60000</td>\n",
       "      <td>5.200000</td>\n",
       "      <td>6.500000</td>\n",
       "      <td>7.1000</td>\n",
       "      <td>7.9000</td>\n",
       "      <td>9.20000</td>\n",
       "      <td>10.7000</td>\n",
       "      <td>11.7100</td>\n",
       "      <td>11.968000</td>\n",
       "      <td>12.326000</td>\n",
       "      <td>12.60000</td>\n",
       "      <td>13.24200</td>\n",
       "      <td>15.90000</td>\n",
       "    </tr>\n",
       "    <tr>\n",
       "      <th>volatile_acidity</th>\n",
       "      <td>1359.0</td>\n",
       "      <td>0.529478</td>\n",
       "      <td>0.183031</td>\n",
       "      <td>0.12000</td>\n",
       "      <td>0.200000</td>\n",
       "      <td>0.310000</td>\n",
       "      <td>0.3900</td>\n",
       "      <td>0.5200</td>\n",
       "      <td>0.64000</td>\n",
       "      <td>0.7600</td>\n",
       "      <td>0.8505</td>\n",
       "      <td>0.880000</td>\n",
       "      <td>0.910000</td>\n",
       "      <td>0.96500</td>\n",
       "      <td>1.02920</td>\n",
       "      <td>1.58000</td>\n",
       "    </tr>\n",
       "    <tr>\n",
       "      <th>citric_acid</th>\n",
       "      <td>1359.0</td>\n",
       "      <td>0.272333</td>\n",
       "      <td>0.195537</td>\n",
       "      <td>0.00000</td>\n",
       "      <td>0.000000</td>\n",
       "      <td>0.010000</td>\n",
       "      <td>0.0900</td>\n",
       "      <td>0.2600</td>\n",
       "      <td>0.43000</td>\n",
       "      <td>0.5300</td>\n",
       "      <td>0.6000</td>\n",
       "      <td>0.636800</td>\n",
       "      <td>0.660000</td>\n",
       "      <td>0.68000</td>\n",
       "      <td>0.70420</td>\n",
       "      <td>1.00000</td>\n",
       "    </tr>\n",
       "    <tr>\n",
       "      <th>residual_sugar</th>\n",
       "      <td>1359.0</td>\n",
       "      <td>2.523400</td>\n",
       "      <td>1.352314</td>\n",
       "      <td>0.90000</td>\n",
       "      <td>1.400000</td>\n",
       "      <td>1.700000</td>\n",
       "      <td>1.9000</td>\n",
       "      <td>2.2000</td>\n",
       "      <td>2.60000</td>\n",
       "      <td>3.4600</td>\n",
       "      <td>4.8000</td>\n",
       "      <td>5.500000</td>\n",
       "      <td>6.000000</td>\n",
       "      <td>6.59200</td>\n",
       "      <td>8.30000</td>\n",
       "      <td>15.50000</td>\n",
       "    </tr>\n",
       "    <tr>\n",
       "      <th>chlorides</th>\n",
       "      <td>1359.0</td>\n",
       "      <td>0.088124</td>\n",
       "      <td>0.049377</td>\n",
       "      <td>0.01200</td>\n",
       "      <td>0.042000</td>\n",
       "      <td>0.060000</td>\n",
       "      <td>0.0700</td>\n",
       "      <td>0.0790</td>\n",
       "      <td>0.09100</td>\n",
       "      <td>0.1100</td>\n",
       "      <td>0.1376</td>\n",
       "      <td>0.163720</td>\n",
       "      <td>0.180080</td>\n",
       "      <td>0.23584</td>\n",
       "      <td>0.36842</td>\n",
       "      <td>0.61100</td>\n",
       "    </tr>\n",
       "    <tr>\n",
       "      <th>free_sulfur_dioxide</th>\n",
       "      <td>1359.0</td>\n",
       "      <td>15.893304</td>\n",
       "      <td>10.447270</td>\n",
       "      <td>1.00000</td>\n",
       "      <td>3.000000</td>\n",
       "      <td>5.000000</td>\n",
       "      <td>7.0000</td>\n",
       "      <td>14.0000</td>\n",
       "      <td>21.00000</td>\n",
       "      <td>31.0000</td>\n",
       "      <td>35.0000</td>\n",
       "      <td>37.000000</td>\n",
       "      <td>39.000000</td>\n",
       "      <td>42.00000</td>\n",
       "      <td>50.00000</td>\n",
       "      <td>72.00000</td>\n",
       "    </tr>\n",
       "    <tr>\n",
       "      <th>total_sulfur_dioxide</th>\n",
       "      <td>1359.0</td>\n",
       "      <td>46.825975</td>\n",
       "      <td>33.408946</td>\n",
       "      <td>6.00000</td>\n",
       "      <td>8.000000</td>\n",
       "      <td>14.000000</td>\n",
       "      <td>22.0000</td>\n",
       "      <td>38.0000</td>\n",
       "      <td>63.00000</td>\n",
       "      <td>94.0000</td>\n",
       "      <td>113.0000</td>\n",
       "      <td>120.000000</td>\n",
       "      <td>127.000000</td>\n",
       "      <td>135.84000</td>\n",
       "      <td>145.84000</td>\n",
       "      <td>289.00000</td>\n",
       "    </tr>\n",
       "    <tr>\n",
       "      <th>density</th>\n",
       "      <td>1359.0</td>\n",
       "      <td>0.996709</td>\n",
       "      <td>0.001869</td>\n",
       "      <td>0.99007</td>\n",
       "      <td>0.991872</td>\n",
       "      <td>0.994472</td>\n",
       "      <td>0.9956</td>\n",
       "      <td>0.9967</td>\n",
       "      <td>0.99782</td>\n",
       "      <td>0.9991</td>\n",
       "      <td>0.9998</td>\n",
       "      <td>1.000084</td>\n",
       "      <td>1.000243</td>\n",
       "      <td>1.00060</td>\n",
       "      <td>1.00140</td>\n",
       "      <td>1.00369</td>\n",
       "    </tr>\n",
       "    <tr>\n",
       "      <th>pH</th>\n",
       "      <td>1359.0</td>\n",
       "      <td>3.309787</td>\n",
       "      <td>0.155036</td>\n",
       "      <td>2.74000</td>\n",
       "      <td>2.940000</td>\n",
       "      <td>3.120000</td>\n",
       "      <td>3.2100</td>\n",
       "      <td>3.3100</td>\n",
       "      <td>3.40000</td>\n",
       "      <td>3.5100</td>\n",
       "      <td>3.5700</td>\n",
       "      <td>3.580000</td>\n",
       "      <td>3.600000</td>\n",
       "      <td>3.63000</td>\n",
       "      <td>3.70420</td>\n",
       "      <td>4.01000</td>\n",
       "    </tr>\n",
       "    <tr>\n",
       "      <th>sulphates</th>\n",
       "      <td>1359.0</td>\n",
       "      <td>0.658705</td>\n",
       "      <td>0.170667</td>\n",
       "      <td>0.33000</td>\n",
       "      <td>0.430000</td>\n",
       "      <td>0.500000</td>\n",
       "      <td>0.5500</td>\n",
       "      <td>0.6200</td>\n",
       "      <td>0.73000</td>\n",
       "      <td>0.8500</td>\n",
       "      <td>0.9400</td>\n",
       "      <td>0.996800</td>\n",
       "      <td>1.060000</td>\n",
       "      <td>1.13840</td>\n",
       "      <td>1.28000</td>\n",
       "      <td>2.00000</td>\n",
       "    </tr>\n",
       "    <tr>\n",
       "      <th>alcohol</th>\n",
       "      <td>1359.0</td>\n",
       "      <td>10.432315</td>\n",
       "      <td>1.082065</td>\n",
       "      <td>8.40000</td>\n",
       "      <td>9.000000</td>\n",
       "      <td>9.300000</td>\n",
       "      <td>9.5000</td>\n",
       "      <td>10.2000</td>\n",
       "      <td>11.10000</td>\n",
       "      <td>12.0000</td>\n",
       "      <td>12.5000</td>\n",
       "      <td>12.700000</td>\n",
       "      <td>12.800000</td>\n",
       "      <td>12.90000</td>\n",
       "      <td>13.40000</td>\n",
       "      <td>14.90000</td>\n",
       "    </tr>\n",
       "    <tr>\n",
       "      <th>quality</th>\n",
       "      <td>1359.0</td>\n",
       "      <td>5.623252</td>\n",
       "      <td>0.823578</td>\n",
       "      <td>3.00000</td>\n",
       "      <td>4.000000</td>\n",
       "      <td>5.000000</td>\n",
       "      <td>5.0000</td>\n",
       "      <td>6.0000</td>\n",
       "      <td>6.00000</td>\n",
       "      <td>7.0000</td>\n",
       "      <td>7.0000</td>\n",
       "      <td>7.000000</td>\n",
       "      <td>7.000000</td>\n",
       "      <td>7.00000</td>\n",
       "      <td>8.00000</td>\n",
       "      <td>8.00000</td>\n",
       "    </tr>\n",
       "  </tbody>\n",
       "</table>\n",
       "</div>"
      ],
      "text/plain": [
       "                       count       mean        std      min        1%  \\\n",
       "fixed_acidity         1359.0   8.310596   1.736990  4.60000  5.200000   \n",
       "volatile_acidity      1359.0   0.529478   0.183031  0.12000  0.200000   \n",
       "citric_acid           1359.0   0.272333   0.195537  0.00000  0.000000   \n",
       "residual_sugar        1359.0   2.523400   1.352314  0.90000  1.400000   \n",
       "chlorides             1359.0   0.088124   0.049377  0.01200  0.042000   \n",
       "free_sulfur_dioxide   1359.0  15.893304  10.447270  1.00000  3.000000   \n",
       "total_sulfur_dioxide  1359.0  46.825975  33.408946  6.00000  8.000000   \n",
       "density               1359.0   0.996709   0.001869  0.99007  0.991872   \n",
       "pH                    1359.0   3.309787   0.155036  2.74000  2.940000   \n",
       "sulphates             1359.0   0.658705   0.170667  0.33000  0.430000   \n",
       "alcohol               1359.0  10.432315   1.082065  8.40000  9.000000   \n",
       "quality               1359.0   5.623252   0.823578  3.00000  4.000000   \n",
       "\n",
       "                            10%      25%      50%       75%      90%  \\\n",
       "fixed_acidity          6.500000   7.1000   7.9000   9.20000  10.7000   \n",
       "volatile_acidity       0.310000   0.3900   0.5200   0.64000   0.7600   \n",
       "citric_acid            0.010000   0.0900   0.2600   0.43000   0.5300   \n",
       "residual_sugar         1.700000   1.9000   2.2000   2.60000   3.4600   \n",
       "chlorides              0.060000   0.0700   0.0790   0.09100   0.1100   \n",
       "free_sulfur_dioxide    5.000000   7.0000  14.0000  21.00000  31.0000   \n",
       "total_sulfur_dioxide  14.000000  22.0000  38.0000  63.00000  94.0000   \n",
       "density                0.994472   0.9956   0.9967   0.99782   0.9991   \n",
       "pH                     3.120000   3.2100   3.3100   3.40000   3.5100   \n",
       "sulphates              0.500000   0.5500   0.6200   0.73000   0.8500   \n",
       "alcohol                9.300000   9.5000  10.2000  11.10000  12.0000   \n",
       "quality                5.000000   5.0000   6.0000   6.00000   7.0000   \n",
       "\n",
       "                           95%         96%         97%        98%        99%  \\\n",
       "fixed_acidity          11.7100   11.968000   12.326000   12.60000   13.24200   \n",
       "volatile_acidity        0.8505    0.880000    0.910000    0.96500    1.02920   \n",
       "citric_acid             0.6000    0.636800    0.660000    0.68000    0.70420   \n",
       "residual_sugar          4.8000    5.500000    6.000000    6.59200    8.30000   \n",
       "chlorides               0.1376    0.163720    0.180080    0.23584    0.36842   \n",
       "free_sulfur_dioxide    35.0000   37.000000   39.000000   42.00000   50.00000   \n",
       "total_sulfur_dioxide  113.0000  120.000000  127.000000  135.84000  145.84000   \n",
       "density                 0.9998    1.000084    1.000243    1.00060    1.00140   \n",
       "pH                      3.5700    3.580000    3.600000    3.63000    3.70420   \n",
       "sulphates               0.9400    0.996800    1.060000    1.13840    1.28000   \n",
       "alcohol                12.5000   12.700000   12.800000   12.90000   13.40000   \n",
       "quality                 7.0000    7.000000    7.000000    7.00000    8.00000   \n",
       "\n",
       "                            max  \n",
       "fixed_acidity          15.90000  \n",
       "volatile_acidity        1.58000  \n",
       "citric_acid             1.00000  \n",
       "residual_sugar         15.50000  \n",
       "chlorides               0.61100  \n",
       "free_sulfur_dioxide    72.00000  \n",
       "total_sulfur_dioxide  289.00000  \n",
       "density                 1.00369  \n",
       "pH                      4.01000  \n",
       "sulphates               2.00000  \n",
       "alcohol                14.90000  \n",
       "quality                 8.00000  "
      ]
     },
     "execution_count": 13,
     "metadata": {},
     "output_type": "execute_result"
    }
   ],
   "source": [
    "wine.describe(percentiles=[0.01, .1, .25,.5,.75, .9,.95, .96, .97, .98, .99]).T"
   ]
  },
  {
   "cell_type": "markdown",
   "id": "7f5fca92",
   "metadata": {},
   "source": [
    "#### outliers are present in the data, so we will cap them."
   ]
  },
  {
   "cell_type": "code",
   "execution_count": 14,
   "id": "dc97afc4",
   "metadata": {},
   "outputs": [],
   "source": [
    "def outlier_capping(x):\n",
    "    x = x.clip(upper = x.mean() + 3*x.std())\n",
    "    x = x.clip(lower = x.mean() - 3*x.std())\n",
    "    return x"
   ]
  },
  {
   "cell_type": "code",
   "execution_count": 15,
   "id": "991a5e23",
   "metadata": {},
   "outputs": [],
   "source": [
    "data1 = wine.apply(outlier_capping)"
   ]
  },
  {
   "cell_type": "markdown",
   "id": "bece07ce",
   "metadata": {},
   "source": [
    "### correlation matrix"
   ]
  },
  {
   "cell_type": "code",
   "execution_count": 16,
   "id": "b4259a9e",
   "metadata": {},
   "outputs": [
    {
     "data": {
      "image/png": "[encoded data removed]",
      "text/plain": [
       "<Figure size 1440x864 with 2 Axes>"
      ]
     },
     "metadata": {
      "needs_background": "light"
     },
     "output_type": "display_data"
    }
   ],
   "source": [
    "corr_matrix = data1.corr() \n",
    "#filter correlation values above 0.2\n",
    "filter_corr = corr_matrix[corr_matrix > 0.2]\n",
    "#plot correlation matrix\n",
    "plt.figure(figsize=(20,12))\n",
    "sns.heatmap(filter_corr,\n",
    "            cmap='coolwarm',\n",
    "            annot=True);"
   ]
  },
  {
   "cell_type": "markdown",
   "id": "3b994d84",
   "metadata": {},
   "source": [
    "From this matrix we can observe, apart from the information we had before, some obvious feature correlations such as pH and acidity. Apart from that, we get to know the percentage of the correlations we obtained before.\n",
    "From all these features, we are going to remove highly correlated variables."
   ]
  },
  {
   "cell_type": "code",
   "execution_count": 17,
   "id": "4bd4ef0f",
   "metadata": {},
   "outputs": [],
   "source": [
    "data1.drop(columns=['free_sulfur_dioxide','fixed_acidity'],inplace=True)"
   ]
  },
  {
   "cell_type": "markdown",
   "id": "fc3e1b70",
   "metadata": {},
   "source": [
    "### setting an arbitary cut-off on \"wine quality\" to make it a classification problem."
   ]
  },
  {
   "cell_type": "code",
   "execution_count": 18,
   "id": "e13536ab",
   "metadata": {},
   "outputs": [],
   "source": [
    "data1['quality'] = np.where(data1['quality']<6, 0,1)"
   ]
  },
  {
   "cell_type": "code",
   "execution_count": 19,
   "id": "173d84d9",
   "metadata": {},
   "outputs": [
    {
     "data": {
      "text/html": [
       "<div>\n",
       "<style scoped>\n",
       "    .dataframe tbody tr th:only-of-type {\n",
       "        vertical-align: middle;\n",
       "    }\n",
       "\n",
       "    .dataframe tbody tr th {\n",
       "        vertical-align: top;\n",
       "    }\n",
       "\n",
       "    .dataframe thead th {\n",
       "        text-align: right;\n",
       "    }\n",
       "</style>\n",
       "<table border=\"1\" class=\"dataframe\">\n",
       "  <thead>\n",
       "    <tr style=\"text-align: right;\">\n",
       "      <th></th>\n",
       "      <th>volatile_acidity</th>\n",
       "      <th>citric_acid</th>\n",
       "      <th>residual_sugar</th>\n",
       "      <th>chlorides</th>\n",
       "      <th>total_sulfur_dioxide</th>\n",
       "      <th>density</th>\n",
       "      <th>pH</th>\n",
       "      <th>sulphates</th>\n",
       "      <th>alcohol</th>\n",
       "      <th>quality</th>\n",
       "    </tr>\n",
       "  </thead>\n",
       "  <tbody>\n",
       "    <tr>\n",
       "      <th>0</th>\n",
       "      <td>0.70</td>\n",
       "      <td>0.00</td>\n",
       "      <td>1.9</td>\n",
       "      <td>0.076</td>\n",
       "      <td>34.0</td>\n",
       "      <td>0.9978</td>\n",
       "      <td>3.51</td>\n",
       "      <td>0.56</td>\n",
       "      <td>9.4</td>\n",
       "      <td>0</td>\n",
       "    </tr>\n",
       "    <tr>\n",
       "      <th>1</th>\n",
       "      <td>0.88</td>\n",
       "      <td>0.00</td>\n",
       "      <td>2.6</td>\n",
       "      <td>0.098</td>\n",
       "      <td>67.0</td>\n",
       "      <td>0.9968</td>\n",
       "      <td>3.20</td>\n",
       "      <td>0.68</td>\n",
       "      <td>9.8</td>\n",
       "      <td>0</td>\n",
       "    </tr>\n",
       "    <tr>\n",
       "      <th>2</th>\n",
       "      <td>0.76</td>\n",
       "      <td>0.04</td>\n",
       "      <td>2.3</td>\n",
       "      <td>0.092</td>\n",
       "      <td>54.0</td>\n",
       "      <td>0.9970</td>\n",
       "      <td>3.26</td>\n",
       "      <td>0.65</td>\n",
       "      <td>9.8</td>\n",
       "      <td>0</td>\n",
       "    </tr>\n",
       "    <tr>\n",
       "      <th>3</th>\n",
       "      <td>0.28</td>\n",
       "      <td>0.56</td>\n",
       "      <td>1.9</td>\n",
       "      <td>0.075</td>\n",
       "      <td>60.0</td>\n",
       "      <td>0.9980</td>\n",
       "      <td>3.16</td>\n",
       "      <td>0.58</td>\n",
       "      <td>9.8</td>\n",
       "      <td>1</td>\n",
       "    </tr>\n",
       "    <tr>\n",
       "      <th>5</th>\n",
       "      <td>0.66</td>\n",
       "      <td>0.00</td>\n",
       "      <td>1.8</td>\n",
       "      <td>0.075</td>\n",
       "      <td>40.0</td>\n",
       "      <td>0.9978</td>\n",
       "      <td>3.51</td>\n",
       "      <td>0.56</td>\n",
       "      <td>9.4</td>\n",
       "      <td>0</td>\n",
       "    </tr>\n",
       "  </tbody>\n",
       "</table>\n",
       "</div>"
      ],
      "text/plain": [
       "   volatile_acidity  citric_acid  residual_sugar  chlorides  \\\n",
       "0              0.70         0.00             1.9      0.076   \n",
       "1              0.88         0.00             2.6      0.098   \n",
       "2              0.76         0.04             2.3      0.092   \n",
       "3              0.28         0.56             1.9      0.075   \n",
       "5              0.66         0.00             1.8      0.075   \n",
       "\n",
       "   total_sulfur_dioxide  density    pH  sulphates  alcohol  quality  \n",
       "0                  34.0   0.9978  3.51       0.56      9.4        0  \n",
       "1                  67.0   0.9968  3.20       0.68      9.8        0  \n",
       "2                  54.0   0.9970  3.26       0.65      9.8        0  \n",
       "3                  60.0   0.9980  3.16       0.58      9.8        1  \n",
       "5                  40.0   0.9978  3.51       0.56      9.4        0  "
      ]
     },
     "execution_count": 19,
     "metadata": {},
     "output_type": "execute_result"
    }
   ],
   "source": [
    "data1.head()"
   ]
  },
  {
   "cell_type": "markdown",
   "id": "48520477",
   "metadata": {},
   "source": [
    "## Model building"
   ]
  },
  {
   "cell_type": "code",
   "execution_count": 20,
   "id": "4dfed6b0",
   "metadata": {},
   "outputs": [],
   "source": [
    "X = data1.drop(columns=[\"quality\"])\n",
    "y = data1[\"quality\"]"
   ]
  },
  {
   "cell_type": "code",
   "execution_count": 21,
   "id": "6bd5f792",
   "metadata": {},
   "outputs": [],
   "source": [
    "from sklearn.model_selection import train_test_split\n",
    "X_train, X_test, y_train, y_test=train_test_split(X,y,test_size=0.2, random_state=70)"
   ]
  },
  {
   "cell_type": "code",
   "execution_count": 22,
   "id": "cbe83cc9",
   "metadata": {},
   "outputs": [],
   "source": [
    "from sklearn.linear_model import LogisticRegression"
   ]
  },
  {
   "cell_type": "code",
   "execution_count": 23,
   "id": "353d7a37",
   "metadata": {},
   "outputs": [],
   "source": [
    "log0 = LogisticRegression(max_iter=1000)"
   ]
  },
  {
   "cell_type": "code",
   "execution_count": 24,
   "id": "0a0a9df8",
   "metadata": {},
   "outputs": [
    {
     "data": {
      "text/plain": [
       "LogisticRegression(max_iter=1000)"
      ]
     },
     "execution_count": 24,
     "metadata": {},
     "output_type": "execute_result"
    }
   ],
   "source": [
    "log0.fit(X_train,y_train)"
   ]
  },
  {
   "cell_type": "code",
   "execution_count": 25,
   "id": "630796eb",
   "metadata": {},
   "outputs": [
    {
     "name": "stdout",
     "output_type": "stream",
     "text": [
      "Train Accuracy 0.7470101195952162\n"
     ]
    }
   ],
   "source": [
    "print(\"Train Accuracy\", log0.score(X_train,y_train))"
   ]
  },
  {
   "cell_type": "code",
   "execution_count": 26,
   "id": "ce2a168e",
   "metadata": {},
   "outputs": [
    {
     "name": "stdout",
     "output_type": "stream",
     "text": [
      "Test Accuracy 0.7352941176470589\n"
     ]
    }
   ],
   "source": [
    "print(\"Test Accuracy\", log0.score(X_test,y_test))"
   ]
  },
  {
   "cell_type": "code",
   "execution_count": 27,
   "id": "74673ff4",
   "metadata": {},
   "outputs": [],
   "source": [
    "pred_train = log0.predict(X_train)"
   ]
  },
  {
   "cell_type": "code",
   "execution_count": 28,
   "id": "5adce322",
   "metadata": {},
   "outputs": [],
   "source": [
    "from sklearn import metrics"
   ]
  },
  {
   "cell_type": "code",
   "execution_count": 29,
   "id": "0a535f34",
   "metadata": {},
   "outputs": [
    {
     "data": {
      "text/plain": [
       "array([[399, 124],\n",
       "       [151, 413]], dtype=int64)"
      ]
     },
     "execution_count": 29,
     "metadata": {},
     "output_type": "execute_result"
    }
   ],
   "source": [
    "metrics.confusion_matrix(y_train,pred_train)"
   ]
  },
  {
   "cell_type": "code",
   "execution_count": 30,
   "id": "ac79103b",
   "metadata": {},
   "outputs": [
    {
     "name": "stdout",
     "output_type": "stream",
     "text": [
      "              precision    recall  f1-score   support\n",
      "\n",
      "           0       0.73      0.76      0.74       523\n",
      "           1       0.77      0.73      0.75       564\n",
      "\n",
      "    accuracy                           0.75      1087\n",
      "   macro avg       0.75      0.75      0.75      1087\n",
      "weighted avg       0.75      0.75      0.75      1087\n",
      "\n"
     ]
    }
   ],
   "source": [
    "print(metrics.classification_report(y_train,pred_train))"
   ]
  },
  {
   "cell_type": "code",
   "execution_count": 31,
   "id": "2fe204c7",
   "metadata": {},
   "outputs": [
    {
     "data": {
      "text/plain": [
       "array([0, 1, 1, 0, 0, 0, 1, 0, 1, 1, 0, 1, 1, 0, 1, 0, 1, 1, 1, 0, 0, 1,\n",
       "       0, 0, 1, 0, 1, 0, 0, 1, 1, 0, 0, 1, 0, 0, 0, 0, 0, 0, 1, 1, 1, 0,\n",
       "       1, 1, 0, 1, 1, 1, 0, 0, 1, 0, 1, 1, 1, 1, 0, 0, 0, 1, 1, 0, 0, 1,\n",
       "       0, 0, 0, 1, 0, 1, 1, 1, 0, 1, 0, 0, 1, 1, 1, 1, 0, 1, 1, 0, 0, 1,\n",
       "       1, 1, 1, 0, 0, 1, 1, 1, 0, 0, 0, 0, 1, 1, 0, 0, 0, 1, 0, 0, 1, 1,\n",
       "       0, 0, 1, 1, 1, 1, 1, 1, 0, 0, 0, 0, 0, 1, 0, 0, 1, 0, 0, 0, 0, 0,\n",
       "       1, 0, 0, 0, 0, 1, 1, 0, 1, 0, 1, 0, 1, 1, 0, 0, 1, 1, 0, 0, 1, 0,\n",
       "       0, 0, 0, 1, 1, 1, 1, 1, 1, 0, 0, 0, 1, 1, 1, 0, 1, 1, 0, 1, 1, 0,\n",
       "       0, 1, 1, 0, 1, 0, 1, 0, 1, 0, 1, 1, 1, 0, 1, 1, 1, 0, 1, 0, 1, 0,\n",
       "       1, 0, 1, 1, 1, 1, 1, 1, 1, 1, 0, 1, 1, 1, 1, 0, 0, 0, 1, 1, 1, 0,\n",
       "       0, 1, 1, 0, 0, 1, 0, 0, 0, 1, 1, 1, 0, 0, 0, 1, 0, 0, 1, 0, 1, 0,\n",
       "       0, 0, 1, 0, 1, 1, 0, 0, 1, 1, 0, 0, 1, 0, 1, 1, 1, 1, 0, 0, 1, 1,\n",
       "       0, 1, 1, 0, 0, 0, 1, 1])"
      ]
     },
     "execution_count": 31,
     "metadata": {},
     "output_type": "execute_result"
    }
   ],
   "source": [
    "pred_test = log0.predict(X_test)\n",
    "pred_test"
   ]
  },
  {
   "cell_type": "code",
   "execution_count": 32,
   "id": "c08218b3",
   "metadata": {},
   "outputs": [
    {
     "name": "stdout",
     "output_type": "stream",
     "text": [
      "              precision    recall  f1-score   support\n",
      "\n",
      "           0       0.67      0.75      0.71       117\n",
      "           1       0.79      0.72      0.76       155\n",
      "\n",
      "    accuracy                           0.74       272\n",
      "   macro avg       0.73      0.74      0.73       272\n",
      "weighted avg       0.74      0.74      0.74       272\n",
      "\n"
     ]
    }
   ],
   "source": [
    "print(metrics.classification_report(y_test,pred_test))"
   ]
  },
  {
   "cell_type": "code",
   "execution_count": 33,
   "id": "ad60d126",
   "metadata": {},
   "outputs": [
    {
     "data": {
      "image/png": "[encoded data removed]",
      "text/plain": [
       "<Figure size 432x288 with 1 Axes>"
      ]
     },
     "metadata": {
      "needs_background": "light"
     },
     "output_type": "display_data"
    }
   ],
   "source": [
    "probs_log=log0.predict_proba(X_train)[:,1]\n",
    "fpr, tpr, threshold=metrics.roc_curve(y_train,probs_log)\n",
    "plt.plot([0,1],[0,1],'k--')\n",
    "plt.plot(fpr,tpr, label='Knn')\n",
    "plt.xlabel('fpr')\n",
    "plt.ylabel('tpr')\n",
    "plt.show()"
   ]
  },
  {
   "cell_type": "code",
   "execution_count": 34,
   "id": "91a5b688",
   "metadata": {},
   "outputs": [
    {
     "data": {
      "text/plain": [
       "0.824129069877819"
      ]
     },
     "execution_count": 34,
     "metadata": {},
     "output_type": "execute_result"
    }
   ],
   "source": [
    "metrics.roc_auc_score(y_train,probs_log) "
   ]
  },
  {
   "cell_type": "code",
   "execution_count": 35,
   "id": "54d73abc",
   "metadata": {},
   "outputs": [
    {
     "data": {
      "text/html": [
       "<div>\n",
       "<style scoped>\n",
       "    .dataframe tbody tr th:only-of-type {\n",
       "        vertical-align: middle;\n",
       "    }\n",
       "\n",
       "    .dataframe tbody tr th {\n",
       "        vertical-align: top;\n",
       "    }\n",
       "\n",
       "    .dataframe thead th {\n",
       "        text-align: right;\n",
       "    }\n",
       "</style>\n",
       "<table border=\"1\" class=\"dataframe\">\n",
       "  <thead>\n",
       "    <tr style=\"text-align: right;\">\n",
       "      <th></th>\n",
       "      <th>Accuracy Score</th>\n",
       "      <th>Kappa Score</th>\n",
       "      <th>Model</th>\n",
       "      <th>Precision Score</th>\n",
       "      <th>ROC Score</th>\n",
       "      <th>Recall Score</th>\n",
       "    </tr>\n",
       "  </thead>\n",
       "  <tbody>\n",
       "    <tr>\n",
       "      <th>0</th>\n",
       "      <td>0.735294</td>\n",
       "      <td>0.467855</td>\n",
       "      <td>Logisitic</td>\n",
       "      <td>0.794326</td>\n",
       "      <td>0.824129</td>\n",
       "      <td>0.722581</td>\n",
       "    </tr>\n",
       "  </tbody>\n",
       "</table>\n",
       "</div>"
      ],
      "text/plain": [
       "   Accuracy Score  Kappa Score        Model  Precision Score  ROC Score  \\\n",
       "0        0.735294     0.467855   Logisitic          0.794326   0.824129   \n",
       "\n",
       "   Recall Score  \n",
       "0      0.722581  "
      ]
     },
     "execution_count": 35,
     "metadata": {},
     "output_type": "execute_result"
    }
   ],
   "source": [
    "models_report=pd.DataFrame()\n",
    "tmp3 = pd.Series({'Model': \" Logisitic \",\n",
    "                 'ROC Score' : metrics.roc_auc_score(y_train,probs_log),\n",
    "                 'Precision Score': metrics.precision_score(y_test,pred_test),\n",
    "                 'Recall Score': metrics.recall_score(y_test,pred_test),\n",
    "                 'Accuracy Score': metrics.accuracy_score(y_test,pred_test),\n",
    "                 'Kappa Score':metrics.cohen_kappa_score(y_test,pred_test)})\n",
    "\n",
    "model_log_report = models_report.append(tmp3, ignore_index = True)\n",
    "model_log_report"
   ]
  },
  {
   "cell_type": "code",
   "execution_count": null,
   "id": "ec0a14ae",
   "metadata": {},
   "outputs": [],
   "source": []
  },
  {
   "cell_type": "code",
   "execution_count": null,
   "id": "5fbe2351",
   "metadata": {},
   "outputs": [],
   "source": []
  },
  {
   "cell_type": "code",
   "execution_count": null,
   "id": "af8d4f84",
   "metadata": {},
   "outputs": [],
   "source": []
  },
  {
   "cell_type": "markdown",
   "id": "6d403e3e",
   "metadata": {},
   "source": [
    "## dtree"
   ]
  },
  {
   "cell_type": "code",
   "execution_count": 36,
   "id": "ba416718",
   "metadata": {},
   "outputs": [],
   "source": [
    "X_train, X_test, y_train, y_test=train_test_split(X,y,test_size=0.2, random_state=70)"
   ]
  },
  {
   "cell_type": "code",
   "execution_count": 37,
   "id": "7b2751a4",
   "metadata": {},
   "outputs": [
    {
     "name": "stdout",
     "output_type": "stream",
     "text": [
      "Train accuracy: 1.0\n",
      "Test accuracy: 0.6875\n"
     ]
    }
   ],
   "source": [
    "from sklearn.tree import DecisionTreeClassifier\n",
    "\n",
    "dt1=DecisionTreeClassifier()\n",
    "\n",
    "dt1.fit(X_train, y_train)\n",
    "\n",
    "print(\"Train accuracy:\", dt1.score(X_train,y_train))\n",
    "\n",
    "print(\"Test accuracy:\", dt1.score(X_test,y_test))"
   ]
  },
  {
   "cell_type": "code",
   "execution_count": 38,
   "id": "c0de986c",
   "metadata": {},
   "outputs": [
    {
     "name": "stdout",
     "output_type": "stream",
     "text": [
      "Train accuracy: 0.7930082796688133\n",
      "Test accuracy: 0.6801470588235294\n"
     ]
    }
   ],
   "source": [
    "dt1=DecisionTreeClassifier(max_depth=5,random_state=70)\n",
    "dt1.fit(X_train, y_train)\n",
    "print(\"Train accuracy:\", dt1.score(X_train,y_train))\n",
    "\n",
    "print(\"Test accuracy:\", dt1.score(X_test,y_test))"
   ]
  },
  {
   "cell_type": "code",
   "execution_count": 39,
   "id": "0b9c6dd4",
   "metadata": {},
   "outputs": [
    {
     "name": "stdout",
     "output_type": "stream",
     "text": [
      "Train accuracy: 0.7681692732290708\n",
      "Test accuracy: 0.6727941176470589\n"
     ]
    }
   ],
   "source": [
    "dt1=DecisionTreeClassifier(max_depth=4,random_state=70)\n",
    "dt1.fit(X_train, y_train)\n",
    "print(\"Train accuracy:\", dt1.score(X_train,y_train))\n",
    "\n",
    "print(\"Test accuracy:\", dt1.score(X_test,y_test))"
   ]
  },
  {
   "cell_type": "code",
   "execution_count": 40,
   "id": "4c5e6f51",
   "metadata": {},
   "outputs": [
    {
     "name": "stdout",
     "output_type": "stream",
     "text": [
      "Train accuracy: 0.7368905243790248\n",
      "Test accuracy: 0.6838235294117647\n"
     ]
    }
   ],
   "source": [
    "dt2=DecisionTreeClassifier(max_depth=5, criterion=\"gini\", min_samples_split=250)\n",
    "dt2.fit(X_train, y_train)\n",
    "print(\"Train accuracy:\", dt2.score(X_train,y_train))\n",
    "print(\"Test accuracy:\", dt2.score(X_test,y_test))"
   ]
  },
  {
   "cell_type": "code",
   "execution_count": 41,
   "id": "ebb7d909",
   "metadata": {},
   "outputs": [
    {
     "name": "stdout",
     "output_type": "stream",
     "text": [
      "Fitting 5 folds for each of 96 candidates, totalling 480 fits\n"
     ]
    },
    {
     "data": {
      "text/plain": [
       "GridSearchCV(cv=5, estimator=DecisionTreeClassifier(random_state=70), n_jobs=-1,\n",
       "             param_grid={'criterion': ('gini', 'entropy'),\n",
       "                         'max_depth': [4, 5, 7, 10],\n",
       "                         'min_samples_leaf': [6, 10, 15, 20],\n",
       "                         'min_samples_split': [2, 4, 6]},\n",
       "             verbose=1)"
      ]
     },
     "execution_count": 41,
     "metadata": {},
     "output_type": "execute_result"
    }
   ],
   "source": [
    "from sklearn.model_selection import GridSearchCV\n",
    "\n",
    "parameters = {'criterion':('gini', 'entropy'), \n",
    "              'min_samples_split':[2,4,6], \n",
    "              'max_depth':[4,5,7,10],\n",
    "              \"min_samples_leaf\":[6,10,15,20]\n",
    "     \n",
    "             }\n",
    "\n",
    "tr = DecisionTreeClassifier(random_state=70)\n",
    "\n",
    "gsearch = GridSearchCV(tr, param_grid=parameters, cv=5, verbose=1, n_jobs=-1)\n",
    "\n",
    "gsearch.fit(X_train, y_train)"
   ]
  },
  {
   "cell_type": "code",
   "execution_count": 42,
   "id": "48fe8353",
   "metadata": {},
   "outputs": [
    {
     "data": {
      "text/plain": [
       "{'criterion': 'gini',\n",
       " 'max_depth': 4,\n",
       " 'min_samples_leaf': 10,\n",
       " 'min_samples_split': 2}"
      ]
     },
     "execution_count": 42,
     "metadata": {},
     "output_type": "execute_result"
    }
   ],
   "source": [
    "gsearch.best_params_"
   ]
  },
  {
   "cell_type": "code",
   "execution_count": 43,
   "id": "f01c7f3c",
   "metadata": {},
   "outputs": [
    {
     "data": {
      "text/plain": [
       "0.7120111613748785"
      ]
     },
     "execution_count": 43,
     "metadata": {},
     "output_type": "execute_result"
    }
   ],
   "source": [
    "gsearch.best_score_"
   ]
  },
  {
   "cell_type": "code",
   "execution_count": 44,
   "id": "1eef18b8",
   "metadata": {},
   "outputs": [
    {
     "name": "stdout",
     "output_type": "stream",
     "text": [
      "Train accuracy: 0.764489420423183\n",
      "Test accuracy: 0.6764705882352942\n"
     ]
    }
   ],
   "source": [
    "dt3=DecisionTreeClassifier(max_depth=4, criterion=\"gini\", \n",
    "                           min_samples_split=2,\n",
    "                          min_samples_leaf= 10)\n",
    "dt3.fit(X_train, y_train)\n",
    "print(\"Train accuracy:\", dt3.score(X_train,y_train))\n",
    "\n",
    "print(\"Test accuracy:\", dt3.score(X_test,y_test))"
   ]
  },
  {
   "cell_type": "code",
   "execution_count": 45,
   "id": "fa0749f2",
   "metadata": {},
   "outputs": [],
   "source": [
    "pred_train_dt = dt2.predict(X_train)"
   ]
  },
  {
   "cell_type": "code",
   "execution_count": 46,
   "id": "f00612e4",
   "metadata": {},
   "outputs": [],
   "source": [
    "pred_test_dt = dt2.predict(X_test)"
   ]
  },
  {
   "cell_type": "code",
   "execution_count": 47,
   "id": "5e834f88",
   "metadata": {},
   "outputs": [
    {
     "name": "stdout",
     "output_type": "stream",
     "text": [
      "              precision    recall  f1-score   support\n",
      "\n",
      "           0       0.74      0.70      0.72       523\n",
      "           1       0.73      0.77      0.75       564\n",
      "\n",
      "    accuracy                           0.74      1087\n",
      "   macro avg       0.74      0.74      0.74      1087\n",
      "weighted avg       0.74      0.74      0.74      1087\n",
      "\n"
     ]
    }
   ],
   "source": [
    "print(metrics.classification_report(y_train,pred_train_dt))"
   ]
  },
  {
   "cell_type": "code",
   "execution_count": 48,
   "id": "02f33131",
   "metadata": {},
   "outputs": [
    {
     "name": "stdout",
     "output_type": "stream",
     "text": [
      "              precision    recall  f1-score   support\n",
      "\n",
      "           0       0.64      0.62      0.63       117\n",
      "           1       0.72      0.74      0.73       155\n",
      "\n",
      "    accuracy                           0.68       272\n",
      "   macro avg       0.68      0.68      0.68       272\n",
      "weighted avg       0.68      0.68      0.68       272\n",
      "\n"
     ]
    }
   ],
   "source": [
    "print(metrics.classification_report(y_test,pred_test_dt))"
   ]
  },
  {
   "cell_type": "code",
   "execution_count": 50,
   "id": "9ee5c15c",
   "metadata": {},
   "outputs": [
    {
     "data": {
      "image/png": "[encoded data removed]",
      "text/plain": [
       "<Figure size 432x288 with 1 Axes>"
      ]
     },
     "metadata": {
      "needs_background": "light"
     },
     "output_type": "display_data"
    }
   ],
   "source": [
    "probs_dt=dt2.predict_proba(X_train)[:,1]\n",
    "fpr, tpr, threshold=metrics.roc_curve(y_train,probs_dt)\n",
    "plt.plot([0,1],[0,1],'k--')\n",
    "plt.plot(fpr,tpr, label='Knn')\n",
    "plt.xlabel('fpr')\n",
    "plt.ylabel('tpr')\n",
    "plt.show()"
   ]
  },
  {
   "cell_type": "code",
   "execution_count": 51,
   "id": "94fa8aa3",
   "metadata": {},
   "outputs": [
    {
     "data": {
      "text/plain": [
       "0.8191506312463556"
      ]
     },
     "execution_count": 51,
     "metadata": {},
     "output_type": "execute_result"
    }
   ],
   "source": [
    "metrics.roc_auc_score(y_train,probs_dt)"
   ]
  },
  {
   "cell_type": "code",
   "execution_count": 53,
   "id": "1f550701",
   "metadata": {},
   "outputs": [
    {
     "data": {
      "text/html": [
       "<div>\n",
       "<style scoped>\n",
       "    .dataframe tbody tr th:only-of-type {\n",
       "        vertical-align: middle;\n",
       "    }\n",
       "\n",
       "    .dataframe tbody tr th {\n",
       "        vertical-align: top;\n",
       "    }\n",
       "\n",
       "    .dataframe thead th {\n",
       "        text-align: right;\n",
       "    }\n",
       "</style>\n",
       "<table border=\"1\" class=\"dataframe\">\n",
       "  <thead>\n",
       "    <tr style=\"text-align: right;\">\n",
       "      <th></th>\n",
       "      <th>Accuracy Score</th>\n",
       "      <th>Kappa Score</th>\n",
       "      <th>Model</th>\n",
       "      <th>Precision Score</th>\n",
       "      <th>ROC Score</th>\n",
       "      <th>Recall Score</th>\n",
       "    </tr>\n",
       "  </thead>\n",
       "  <tbody>\n",
       "    <tr>\n",
       "      <th>0</th>\n",
       "      <td>0.683824</td>\n",
       "      <td>0.352345</td>\n",
       "      <td>Decision Tree Classifier</td>\n",
       "      <td>0.716981</td>\n",
       "      <td>0.819151</td>\n",
       "      <td>0.735484</td>\n",
       "    </tr>\n",
       "  </tbody>\n",
       "</table>\n",
       "</div>"
      ],
      "text/plain": [
       "   Accuracy Score  Kappa Score                       Model  Precision Score  \\\n",
       "0        0.683824     0.352345   Decision Tree Classifier          0.716981   \n",
       "\n",
       "   ROC Score  Recall Score  \n",
       "0   0.819151      0.735484  "
      ]
     },
     "execution_count": 53,
     "metadata": {},
     "output_type": "execute_result"
    }
   ],
   "source": [
    "models_report_dt=pd.DataFrame()\n",
    "tmp3 = pd.Series({'Model': \" Decision Tree Classifier \",\n",
    "                 'ROC Score' : metrics.roc_auc_score(y_train,probs_dt),\n",
    "                 'Precision Score': metrics.precision_score(y_test, pred_test_dt),\n",
    "                 'Recall Score': metrics.recall_score(y_test, pred_test_dt),\n",
    "                 'Accuracy Score': metrics.accuracy_score(y_test, pred_test_dt),\n",
    "                 'Kappa Score':metrics.cohen_kappa_score(y_test, pred_test_dt)})\n",
    "\n",
    "model_dt1_report = models_report_dt.append(tmp3, ignore_index = True)\n",
    "model_dt1_report"
   ]
  },
  {
   "cell_type": "code",
   "execution_count": null,
   "id": "3600c363",
   "metadata": {},
   "outputs": [],
   "source": []
  },
  {
   "cell_type": "code",
   "execution_count": null,
   "id": "57d96e9f",
   "metadata": {},
   "outputs": [],
   "source": []
  },
  {
   "cell_type": "markdown",
   "id": "70579057",
   "metadata": {},
   "source": [
    "## rf"
   ]
  },
  {
   "cell_type": "code",
   "execution_count": 54,
   "id": "e85a324d",
   "metadata": {},
   "outputs": [],
   "source": [
    "from sklearn.ensemble import RandomForestClassifier"
   ]
  },
  {
   "cell_type": "code",
   "execution_count": 55,
   "id": "8f7dc3a9",
   "metadata": {},
   "outputs": [],
   "source": [
    "rf1=RandomForestClassifier(n_estimators=100,random_state=70)"
   ]
  },
  {
   "cell_type": "code",
   "execution_count": 56,
   "id": "30da0a0d",
   "metadata": {},
   "outputs": [
    {
     "name": "stdout",
     "output_type": "stream",
     "text": [
      "Train Accuracy : 1.0\n",
      "Test Accuracy : 0.7463235294117647\n"
     ]
    }
   ],
   "source": [
    "rf1.fit(X_train, y_train)\n",
    "print(\"Train Accuracy :\", rf1.score(X_train,y_train))\n",
    "print(\"Test Accuracy :\", rf1.score(X_test,y_test))"
   ]
  },
  {
   "cell_type": "code",
   "execution_count": 57,
   "id": "e84347ca",
   "metadata": {},
   "outputs": [
    {
     "name": "stdout",
     "output_type": "stream",
     "text": [
      "Train Accuracy : 0.8141674333026679\n",
      "Test Accuracy : 0.7169117647058824\n"
     ]
    }
   ],
   "source": [
    "rf1=RandomForestClassifier(n_estimators=100, max_depth=5,random_state=42)\n",
    "rf1.fit(X_train, y_train)\n",
    "print(\"Train Accuracy :\", rf1.score(X_train,y_train))\n",
    "print(\"Test Accuracy :\", rf1.score(X_test,y_test))"
   ]
  },
  {
   "cell_type": "code",
   "execution_count": 58,
   "id": "6fac6b45",
   "metadata": {},
   "outputs": [
    {
     "data": {
      "text/plain": [
       "GridSearchCV(cv=10, estimator=RandomForestClassifier(random_state=42),\n",
       "             n_jobs=-1,\n",
       "             param_grid={'criterion': ['gini', 'entropy'],\n",
       "                         'max_depth': [5, 7, 10],\n",
       "                         'min_samples_split': [4, 6, 10, 15],\n",
       "                         'n_estimators': [20, 40, 50, 100]})"
      ]
     },
     "execution_count": 58,
     "metadata": {},
     "output_type": "execute_result"
    }
   ],
   "source": [
    "from sklearn.model_selection import GridSearchCV\n",
    "\n",
    "fit_rf = RandomForestClassifier(random_state=42)\n",
    "\n",
    "param_dist = {'max_depth':[5,7,10],\n",
    "              'min_samples_split':[4,6,10,15],\n",
    "              'n_estimators':[ 20,40,50, 100],\n",
    "              'criterion': ['gini', 'entropy']}\n",
    "\n",
    "cv_rf = GridSearchCV(fit_rf, cv = 10,\n",
    "                     param_grid=param_dist, \n",
    "                     n_jobs = -1, verbose=0)\n",
    "\n",
    "cv_rf.fit(X_train, y_train)"
   ]
  },
  {
   "cell_type": "code",
   "execution_count": 59,
   "id": "be37b453",
   "metadata": {},
   "outputs": [
    {
     "data": {
      "text/plain": [
       "{'criterion': 'gini',\n",
       " 'max_depth': 7,\n",
       " 'min_samples_split': 6,\n",
       " 'n_estimators': 50}"
      ]
     },
     "execution_count": 59,
     "metadata": {},
     "output_type": "execute_result"
    }
   ],
   "source": [
    "cv_rf.best_params_"
   ]
  },
  {
   "cell_type": "code",
   "execution_count": 60,
   "id": "b25df9b9",
   "metadata": {},
   "outputs": [
    {
     "data": {
      "text/plain": [
       "0.7672273190621814"
      ]
     },
     "execution_count": 60,
     "metadata": {},
     "output_type": "execute_result"
    }
   ],
   "source": [
    "cv_rf.best_score_"
   ]
  },
  {
   "cell_type": "code",
   "execution_count": 61,
   "id": "f4ef1a57",
   "metadata": {},
   "outputs": [
    {
     "name": "stdout",
     "output_type": "stream",
     "text": [
      "Train Accuracy : 0.8804047838086476\n",
      "Test Accuracy : 0.7279411764705882\n"
     ]
    }
   ],
   "source": [
    "rf2=RandomForestClassifier(n_estimators=cv_rf.best_params_['n_estimators'],\n",
    "                           max_depth=cv_rf.best_params_['max_depth'], \n",
    "                           min_samples_split=cv_rf.best_params_[\"min_samples_split\"],\n",
    "                           criterion=cv_rf.best_params_['criterion'],\n",
    "                           random_state=42\n",
    "                          )\n",
    "rf2.fit(X_train, y_train)\n",
    "print(\"Train Accuracy :\", rf2.score(X_train,y_train))\n",
    "print(\"Test Accuracy :\", rf2.score(X_test,y_test))"
   ]
  },
  {
   "cell_type": "code",
   "execution_count": 73,
   "id": "79e6a5d4",
   "metadata": {},
   "outputs": [
    {
     "name": "stdout",
     "output_type": "stream",
     "text": [
      "Train Accuracy : 0.7865685372585096\n",
      "Test Accuracy : 0.7426470588235294\n"
     ]
    }
   ],
   "source": [
    "rf3=RandomForestClassifier(n_estimators=50,\n",
    "                           max_depth=4, \n",
    "                           min_samples_split=20,\n",
    "                           criterion='gini',\n",
    "                           random_state=70\n",
    "                          )\n",
    "rf3.fit(X_train, y_train)\n",
    "print(\"Train Accuracy :\", rf3.score(X_train,y_train))\n",
    "print(\"Test Accuracy :\", rf3.score(X_test,y_test))"
   ]
  },
  {
   "cell_type": "code",
   "execution_count": 74,
   "id": "9f68355b",
   "metadata": {},
   "outputs": [],
   "source": [
    "pred_train_rf = rf3.predict(X_train)"
   ]
  },
  {
   "cell_type": "code",
   "execution_count": 75,
   "id": "79f96ea8",
   "metadata": {},
   "outputs": [],
   "source": [
    "pred_test_rf = rf3.predict(X_test)"
   ]
  },
  {
   "cell_type": "code",
   "execution_count": 76,
   "id": "4fc1b8a4",
   "metadata": {},
   "outputs": [
    {
     "name": "stdout",
     "output_type": "stream",
     "text": [
      "              precision    recall  f1-score   support\n",
      "\n",
      "           0       0.77      0.79      0.78       523\n",
      "           1       0.80      0.78      0.79       564\n",
      "\n",
      "    accuracy                           0.79      1087\n",
      "   macro avg       0.79      0.79      0.79      1087\n",
      "weighted avg       0.79      0.79      0.79      1087\n",
      "\n"
     ]
    }
   ],
   "source": [
    "print(metrics.classification_report(y_train,pred_train_rf))"
   ]
  },
  {
   "cell_type": "code",
   "execution_count": 77,
   "id": "5d13d02d",
   "metadata": {},
   "outputs": [
    {
     "name": "stdout",
     "output_type": "stream",
     "text": [
      "              precision    recall  f1-score   support\n",
      "\n",
      "           0       0.69      0.74      0.71       117\n",
      "           1       0.79      0.74      0.77       155\n",
      "\n",
      "    accuracy                           0.74       272\n",
      "   macro avg       0.74      0.74      0.74       272\n",
      "weighted avg       0.75      0.74      0.74       272\n",
      "\n"
     ]
    }
   ],
   "source": [
    "print(metrics.classification_report(y_test,pred_test_rf))"
   ]
  },
  {
   "cell_type": "code",
   "execution_count": 78,
   "id": "7448fd71",
   "metadata": {},
   "outputs": [
    {
     "data": {
      "image/png": "[encoded data removed]",
      "text/plain": [
       "<Figure size 432x288 with 1 Axes>"
      ]
     },
     "metadata": {
      "needs_background": "light"
     },
     "output_type": "display_data"
    }
   ],
   "source": [
    "probs_rf=rf3.predict_proba(X_train)[:,1]\n",
    "fpr, tpr, threshold=metrics.roc_curve(y_train,probs_rf)\n",
    "plt.plot([0,1],[0,1],'k--')\n",
    "plt.plot(fpr,tpr, label='Knn')\n",
    "plt.xlabel('fpr')\n",
    "plt.ylabel('tpr')\n",
    "plt.show()"
   ]
  },
  {
   "cell_type": "code",
   "execution_count": 79,
   "id": "f9948b51",
   "metadata": {},
   "outputs": [
    {
     "data": {
      "text/plain": [
       "0.8763069037061144"
      ]
     },
     "execution_count": 79,
     "metadata": {},
     "output_type": "execute_result"
    }
   ],
   "source": [
    "metrics.roc_auc_score(y_train,probs_rf)"
   ]
  },
  {
   "cell_type": "code",
   "execution_count": 80,
   "id": "de668f77",
   "metadata": {},
   "outputs": [
    {
     "data": {
      "text/html": [
       "<div>\n",
       "<style scoped>\n",
       "    .dataframe tbody tr th:only-of-type {\n",
       "        vertical-align: middle;\n",
       "    }\n",
       "\n",
       "    .dataframe tbody tr th {\n",
       "        vertical-align: top;\n",
       "    }\n",
       "\n",
       "    .dataframe thead th {\n",
       "        text-align: right;\n",
       "    }\n",
       "</style>\n",
       "<table border=\"1\" class=\"dataframe\">\n",
       "  <thead>\n",
       "    <tr style=\"text-align: right;\">\n",
       "      <th></th>\n",
       "      <th>Accuracy Score</th>\n",
       "      <th>Kappa Score</th>\n",
       "      <th>Model</th>\n",
       "      <th>Precision Score</th>\n",
       "      <th>ROC Score</th>\n",
       "      <th>Recall Score</th>\n",
       "    </tr>\n",
       "  </thead>\n",
       "  <tbody>\n",
       "    <tr>\n",
       "      <th>0</th>\n",
       "      <td>0.742647</td>\n",
       "      <td>0.480491</td>\n",
       "      <td>Random Forest Classifier</td>\n",
       "      <td>0.793103</td>\n",
       "      <td>0.876307</td>\n",
       "      <td>0.741935</td>\n",
       "    </tr>\n",
       "  </tbody>\n",
       "</table>\n",
       "</div>"
      ],
      "text/plain": [
       "   Accuracy Score  Kappa Score                       Model  Precision Score  \\\n",
       "0        0.742647     0.480491   Random Forest Classifier          0.793103   \n",
       "\n",
       "   ROC Score  Recall Score  \n",
       "0   0.876307      0.741935  "
      ]
     },
     "execution_count": 80,
     "metadata": {},
     "output_type": "execute_result"
    }
   ],
   "source": [
    "models_report_rf=pd.DataFrame()\n",
    "tmp3 = pd.Series({'Model': \" Random Forest Classifier \",\n",
    "                 'ROC Score' : metrics.roc_auc_score(y_train,probs_rf),\n",
    "                 'Precision Score': metrics.precision_score(y_test, pred_test_rf),\n",
    "                 'Recall Score': metrics.recall_score(y_test, pred_test_rf),\n",
    "                 'Accuracy Score': metrics.accuracy_score(y_test, pred_test_rf),\n",
    "                 'Kappa Score':metrics.cohen_kappa_score(y_test, pred_test_rf)})\n",
    "\n",
    "model_rf1_report = models_report_rf.append(tmp3, ignore_index = True)\n",
    "model_rf1_report"
   ]
  },
  {
   "cell_type": "code",
   "execution_count": null,
   "id": "ebe7f620",
   "metadata": {},
   "outputs": [],
   "source": []
  },
  {
   "cell_type": "code",
   "execution_count": null,
   "id": "20c46ac8",
   "metadata": {},
   "outputs": [],
   "source": []
  },
  {
   "cell_type": "markdown",
   "id": "68d60931",
   "metadata": {},
   "source": [
    "## XG BOOST"
   ]
  },
  {
   "cell_type": "code",
   "execution_count": 81,
   "id": "7741e9dc",
   "metadata": {},
   "outputs": [],
   "source": [
    "from xgboost import XGBClassifier"
   ]
  },
  {
   "cell_type": "code",
   "execution_count": 82,
   "id": "f2b4e2fe",
   "metadata": {},
   "outputs": [
    {
     "name": "stdout",
     "output_type": "stream",
     "text": [
      "[00:36:36] WARNING: C:/Users/Administrator/workspace/xgboost-win64_release_1.5.1/src/learner.cc:1115: Starting in XGBoost 1.3.0, the default evaluation metric used with the objective 'binary:logistic' was changed from 'error' to 'logloss'. Explicitly set eval_metric if you'd like to restore the old behavior.\n",
      "Train Accuracy: 1.0\n",
      "Test Accuracy: 0.7205882352941176\n"
     ]
    }
   ],
   "source": [
    "Xgbr = XGBClassifier(learning_rate=1.0, max_depth=7,n_estimators=100 ,use_label_encoder=False)\n",
    "\n",
    "Xgbr.fit(X_train, y_train)\n",
    "print(\"Train Accuracy:\", Xgbr.score(X_train, y_train))\n",
    "print(\"Test Accuracy:\", Xgbr.score(X_test,y_test))"
   ]
  },
  {
   "cell_type": "code",
   "execution_count": 83,
   "id": "cd4c4b8e",
   "metadata": {},
   "outputs": [
    {
     "name": "stdout",
     "output_type": "stream",
     "text": [
      "[00:36:43] WARNING: C:/Users/Administrator/workspace/xgboost-win64_release_1.5.1/src/learner.cc:1115: Starting in XGBoost 1.3.0, the default evaluation metric used with the objective 'binary:logistic' was changed from 'error' to 'logloss'. Explicitly set eval_metric if you'd like to restore the old behavior.\n",
      "Train Accuracy: 0.9475620975160993\n",
      "Test Accuracy: 0.7279411764705882\n"
     ]
    },
    {
     "name": "stderr",
     "output_type": "stream",
     "text": [
      "C:\\python\\lib\\site-packages\\xgboost\\sklearn.py:1224: UserWarning: The use of label encoder in XGBClassifier is deprecated and will be removed in a future release. To remove this warning, do the following: 1) Pass option use_label_encoder=False when constructing XGBClassifier object; and 2) Encode your labels (y) as integers starting with 0, i.e. 0, 1, 2, ..., [num_class - 1].\n",
      "  warnings.warn(label_encoder_deprecation_msg, UserWarning)\n"
     ]
    }
   ],
   "source": [
    "Xgbr1 = XGBClassifier(learning_rate=1.5, max_depth=5,n_estimators=20,min_child_weight=5)\n",
    "\n",
    "Xgbr1.fit(X_train, y_train)\n",
    "\n",
    "print(\"Train Accuracy:\", Xgbr1.score(X_train, y_train))\n",
    "print(\"Test Accuracy:\", Xgbr1.score(X_test,y_test))"
   ]
  },
  {
   "cell_type": "code",
   "execution_count": 84,
   "id": "8d61f8ad",
   "metadata": {},
   "outputs": [
    {
     "name": "stdout",
     "output_type": "stream",
     "text": [
      "Fitting 5 folds for each of 10 candidates, totalling 50 fits\n",
      "[00:36:55] WARNING: C:/Users/Administrator/workspace/xgboost-win64_release_1.5.1/src/learner.cc:1115: Starting in XGBoost 1.3.0, the default evaluation metric used with the objective 'binary:logistic' was changed from 'error' to 'logloss'. Explicitly set eval_metric if you'd like to restore the old behavior.\n"
     ]
    },
    {
     "name": "stderr",
     "output_type": "stream",
     "text": [
      "C:\\python\\lib\\site-packages\\xgboost\\sklearn.py:1224: UserWarning: The use of label encoder in XGBClassifier is deprecated and will be removed in a future release. To remove this warning, do the following: 1) Pass option use_label_encoder=False when constructing XGBClassifier object; and 2) Encode your labels (y) as integers starting with 0, i.e. 0, 1, 2, ..., [num_class - 1].\n",
      "  warnings.warn(label_encoder_deprecation_msg, UserWarning)\n"
     ]
    },
    {
     "data": {
      "text/plain": [
       "RandomizedSearchCV(cv=5,\n",
       "                   estimator=XGBClassifier(base_score=None, booster=None,\n",
       "                                           colsample_bylevel=None,\n",
       "                                           colsample_bynode=None,\n",
       "                                           colsample_bytree=None,\n",
       "                                           enable_categorical=False, gamma=None,\n",
       "                                           gpu_id=None, importance_type=None,\n",
       "                                           interaction_constraints=None,\n",
       "                                           learning_rate=None,\n",
       "                                           max_delta_step=None, max_depth=None,\n",
       "                                           min_child_weight=None, missing=nan,\n",
       "                                           monotone_constraints...\n",
       "                                           n_estimators=100, n_jobs=None,\n",
       "                                           num_parallel_tree=None,\n",
       "                                           predictor=None, random_state=89,\n",
       "                                           reg_alpha=None, reg_lambda=None,\n",
       "                                           scale_pos_weight=None,\n",
       "                                           subsample=None, tree_method=None,\n",
       "                                           validate_parameters=None,\n",
       "                                           verbosity=None),\n",
       "                   n_jobs=-1,\n",
       "                   param_distributions={'learning_rate': [0.5, 1.0, 1.5],\n",
       "                                        'max_depth': [2, 5, 6, 10],\n",
       "                                        'min_child_weight': [5, 10, 20, 40],\n",
       "                                        'n_estimators': [10, 20, 40]},\n",
       "                   verbose=1)"
      ]
     },
     "execution_count": 84,
     "metadata": {},
     "output_type": "execute_result"
    }
   ],
   "source": [
    "from sklearn.model_selection import RandomizedSearchCV\n",
    "\n",
    "params =  {'max_depth': [2,5,6,10],\n",
    "            'learning_rate':[0.5,1.0,1.5],\n",
    "            'n_estimators': [10,20,40],\n",
    "            'min_child_weight': [5,10,20,40]\n",
    "     \n",
    "              }\n",
    "\n",
    "xgb_clf = XGBClassifier(random_state=89)\n",
    "\n",
    "xgb_clf_grid = RandomizedSearchCV(xgb_clf, params, cv=5, verbose=1, n_jobs=-1)\n",
    "\n",
    "xgb_clf_grid.fit(X_train, y_train)"
   ]
  },
  {
   "cell_type": "code",
   "execution_count": 86,
   "id": "2c4dac1b",
   "metadata": {},
   "outputs": [
    {
     "data": {
      "text/plain": [
       "{'n_estimators': 10,\n",
       " 'min_child_weight': 20,\n",
       " 'max_depth': 2,\n",
       " 'learning_rate': 0.5}"
      ]
     },
     "execution_count": 86,
     "metadata": {},
     "output_type": "execute_result"
    }
   ],
   "source": [
    "xgb_clf_grid.best_params_"
   ]
  },
  {
   "cell_type": "code",
   "execution_count": 87,
   "id": "fe9ab416",
   "metadata": {},
   "outputs": [
    {
     "data": {
      "text/plain": [
       "0.7469919249143872"
      ]
     },
     "execution_count": 87,
     "metadata": {},
     "output_type": "execute_result"
    }
   ],
   "source": [
    "xgb_clf_grid.best_score_"
   ]
  },
  {
   "cell_type": "code",
   "execution_count": 89,
   "id": "a0da4aa5",
   "metadata": {},
   "outputs": [
    {
     "name": "stdout",
     "output_type": "stream",
     "text": [
      "[00:37:26] WARNING: C:/Users/Administrator/workspace/xgboost-win64_release_1.5.1/src/learner.cc:1115: Starting in XGBoost 1.3.0, the default evaluation metric used with the objective 'binary:logistic' was changed from 'error' to 'logloss'. Explicitly set eval_metric if you'd like to restore the old behavior.\n",
      "Train Accuaracy: 0.7736890524379025\n",
      "Test Accuaracy: 0.7352941176470589\n"
     ]
    }
   ],
   "source": [
    "xgb3 = XGBClassifier(learning_rate=xgb_clf_grid.best_params_['learning_rate'],\n",
    "                     max_depth=xgb_clf_grid.best_params_['max_depth'], \n",
    "                     n_estimators=xgb_clf_grid.best_params_['n_estimators'],\n",
    "                     min_child_weight=xgb_clf_grid.best_params_['min_child_weight'])\n",
    "\n",
    "xgb3.fit(X_train, y_train)\n",
    "\n",
    "print(\"Train Accuaracy:\", xgb3.score(X_train, y_train))\n",
    "print(\"Test Accuaracy:\", xgb3.score(X_test,y_test))"
   ]
  },
  {
   "cell_type": "code",
   "execution_count": 90,
   "id": "505d57d1",
   "metadata": {},
   "outputs": [],
   "source": [
    "Xgb_y_Pred_train = xgb3.predict(X_train)\n",
    "Xgb_y_Pred_test = xgb3.predict(X_test)"
   ]
  },
  {
   "cell_type": "code",
   "execution_count": 91,
   "id": "6d33a05f",
   "metadata": {},
   "outputs": [
    {
     "name": "stdout",
     "output_type": "stream",
     "text": [
      "              precision    recall  f1-score   support\n",
      "\n",
      "           0       0.76      0.78      0.77       523\n",
      "           1       0.79      0.77      0.78       564\n",
      "\n",
      "    accuracy                           0.77      1087\n",
      "   macro avg       0.77      0.77      0.77      1087\n",
      "weighted avg       0.77      0.77      0.77      1087\n",
      "\n"
     ]
    }
   ],
   "source": [
    "print(metrics.classification_report(y_train, Xgb_y_Pred_train))"
   ]
  },
  {
   "cell_type": "code",
   "execution_count": 92,
   "id": "e15efec4",
   "metadata": {},
   "outputs": [
    {
     "name": "stdout",
     "output_type": "stream",
     "text": [
      "              precision    recall  f1-score   support\n",
      "\n",
      "           0       0.68      0.72      0.70       117\n",
      "           1       0.78      0.75      0.76       155\n",
      "\n",
      "    accuracy                           0.74       272\n",
      "   macro avg       0.73      0.73      0.73       272\n",
      "weighted avg       0.74      0.74      0.74       272\n",
      "\n"
     ]
    }
   ],
   "source": [
    "print(metrics.classification_report(y_test, Xgb_y_Pred_test))"
   ]
  },
  {
   "cell_type": "code",
   "execution_count": 94,
   "id": "7ae16719",
   "metadata": {},
   "outputs": [
    {
     "data": {
      "image/png": "[encoded data removed]",
      "text/plain": [
       "<Figure size 432x288 with 1 Axes>"
      ]
     },
     "metadata": {
      "needs_background": "light"
     },
     "output_type": "display_data"
    }
   ],
   "source": [
    "probs_xgb=xgb3.predict_proba(X_train)[:,1]\n",
    "fpr, tpr, threshold=metrics.roc_curve(y_train,probs_xgb)\n",
    "plt.plot([0,1],[0,1],'k--')\n",
    "plt.plot(fpr,tpr, label='Knn')\n",
    "plt.xlabel('fpr')\n",
    "plt.ylabel('tpr')\n",
    "plt.show()"
   ]
  },
  {
   "cell_type": "code",
   "execution_count": 95,
   "id": "8902f6f8",
   "metadata": {},
   "outputs": [
    {
     "data": {
      "text/plain": [
       "0.8577288691808036"
      ]
     },
     "execution_count": 95,
     "metadata": {},
     "output_type": "execute_result"
    }
   ],
   "source": [
    "metrics.roc_auc_score(y_train,probs_xgb)"
   ]
  },
  {
   "cell_type": "code",
   "execution_count": 96,
   "id": "4e3f3c7e",
   "metadata": {},
   "outputs": [
    {
     "data": {
      "text/html": [
       "<div>\n",
       "<style scoped>\n",
       "    .dataframe tbody tr th:only-of-type {\n",
       "        vertical-align: middle;\n",
       "    }\n",
       "\n",
       "    .dataframe tbody tr th {\n",
       "        vertical-align: top;\n",
       "    }\n",
       "\n",
       "    .dataframe thead th {\n",
       "        text-align: right;\n",
       "    }\n",
       "</style>\n",
       "<table border=\"1\" class=\"dataframe\">\n",
       "  <thead>\n",
       "    <tr style=\"text-align: right;\">\n",
       "      <th></th>\n",
       "      <th>Accuracy Score</th>\n",
       "      <th>Kappa Score</th>\n",
       "      <th>Model</th>\n",
       "      <th>Precision Score</th>\n",
       "      <th>ROC Score</th>\n",
       "      <th>Recall Score</th>\n",
       "    </tr>\n",
       "  </thead>\n",
       "  <tbody>\n",
       "    <tr>\n",
       "      <th>0</th>\n",
       "      <td>0.735294</td>\n",
       "      <td>0.463423</td>\n",
       "      <td>Xgboost Classifier</td>\n",
       "      <td>0.778523</td>\n",
       "      <td>0.857729</td>\n",
       "      <td>0.748387</td>\n",
       "    </tr>\n",
       "  </tbody>\n",
       "</table>\n",
       "</div>"
      ],
      "text/plain": [
       "   Accuracy Score  Kappa Score                 Model  Precision Score  \\\n",
       "0        0.735294     0.463423   Xgboost Classifier          0.778523   \n",
       "\n",
       "   ROC Score  Recall Score  \n",
       "0   0.857729      0.748387  "
      ]
     },
     "execution_count": 96,
     "metadata": {},
     "output_type": "execute_result"
    }
   ],
   "source": [
    "models_report_xgb=pd.DataFrame()\n",
    "tmp3 = pd.Series({'Model': \" Xgboost Classifier \",\n",
    "                 'ROC Score' : metrics.roc_auc_score(y_train,probs_xgb),\n",
    "                 'Precision Score': metrics.precision_score(y_test, Xgb_y_Pred_test),\n",
    "                 'Recall Score': metrics.recall_score(y_test, Xgb_y_Pred_test),\n",
    "                 'Accuracy Score': metrics.accuracy_score(y_test, Xgb_y_Pred_test),\n",
    "                 'Kappa Score':metrics.cohen_kappa_score(y_test, Xgb_y_Pred_test)})\n",
    "\n",
    "model_xgb_report = models_report_xgb.append(tmp3, ignore_index = True)\n",
    "model_xgb_report"
   ]
  },
  {
   "cell_type": "code",
   "execution_count": null,
   "id": "6dd98ec1",
   "metadata": {},
   "outputs": [],
   "source": []
  },
  {
   "cell_type": "code",
   "execution_count": null,
   "id": "94b55b0a",
   "metadata": {},
   "outputs": [],
   "source": []
  },
  {
   "cell_type": "markdown",
   "id": "945fcfbf",
   "metadata": {},
   "source": [
    "## adaboost"
   ]
  },
  {
   "cell_type": "code",
   "execution_count": 97,
   "id": "5bdf0c5b",
   "metadata": {},
   "outputs": [],
   "source": [
    "from sklearn.ensemble import AdaBoostClassifier"
   ]
  },
  {
   "cell_type": "code",
   "execution_count": 98,
   "id": "036112df",
   "metadata": {},
   "outputs": [],
   "source": [
    "clf_ABC = AdaBoostClassifier(n_estimators=200,\n",
    "                         learning_rate=1,\n",
    "                         random_state=70)"
   ]
  },
  {
   "cell_type": "code",
   "execution_count": 99,
   "id": "28d96688",
   "metadata": {},
   "outputs": [
    {
     "name": "stdout",
     "output_type": "stream",
     "text": [
      "Train Accuracy: 0.8160073597056118\n",
      "Test Accuracy: 0.7132352941176471\n"
     ]
    }
   ],
   "source": [
    "# Train model\n",
    "clf_ABC = clf_ABC.fit(X_train,y_train)\n",
    "print (\"Train Accuracy:\", clf_ABC.score(X_train, y_train))\n",
    "print (\"Test Accuracy:\", clf_ABC.score(X_test, y_test))"
   ]
  },
  {
   "cell_type": "code",
   "execution_count": 100,
   "id": "86c1b9ce",
   "metadata": {},
   "outputs": [
    {
     "name": "stdout",
     "output_type": "stream",
     "text": [
      "Train Accuracy: 0.8031278748850046\n",
      "Test Accuracy: 0.7426470588235294\n"
     ]
    }
   ],
   "source": [
    "clf_ABC1 = AdaBoostClassifier(n_estimators=150,learning_rate=0.5,random_state=70)\n",
    "\n",
    "clf_ABC1 = clf_ABC1.fit(X_train,y_train)\n",
    "print (\"Train Accuracy:\", clf_ABC1.score(X_train, y_train))\n",
    "print (\"Test Accuracy:\", clf_ABC1.score(X_test, y_test))"
   ]
  },
  {
   "cell_type": "code",
   "execution_count": 101,
   "id": "4cb27e0b",
   "metadata": {},
   "outputs": [],
   "source": [
    "y_pred_ABC1 = clf_ABC1.predict(X_test)\n",
    "y_train_ABC1 = clf_ABC1.predict(X_train)"
   ]
  },
  {
   "cell_type": "code",
   "execution_count": 102,
   "id": "2129a876",
   "metadata": {},
   "outputs": [
    {
     "name": "stdout",
     "output_type": "stream",
     "text": [
      "              precision    recall  f1-score   support\n",
      "\n",
      "           0       0.79      0.80      0.80       523\n",
      "           1       0.82      0.80      0.81       564\n",
      "\n",
      "    accuracy                           0.80      1087\n",
      "   macro avg       0.80      0.80      0.80      1087\n",
      "weighted avg       0.80      0.80      0.80      1087\n",
      "\n"
     ]
    }
   ],
   "source": [
    "print(metrics.classification_report(y_train, y_train_ABC1))"
   ]
  },
  {
   "cell_type": "code",
   "execution_count": 103,
   "id": "b28f1136",
   "metadata": {},
   "outputs": [
    {
     "name": "stdout",
     "output_type": "stream",
     "text": [
      "              precision    recall  f1-score   support\n",
      "\n",
      "           0       0.70      0.71      0.70       117\n",
      "           1       0.78      0.77      0.77       155\n",
      "\n",
      "    accuracy                           0.74       272\n",
      "   macro avg       0.74      0.74      0.74       272\n",
      "weighted avg       0.74      0.74      0.74       272\n",
      "\n"
     ]
    }
   ],
   "source": [
    "print(metrics.classification_report(y_test, y_pred_ABC1))"
   ]
  },
  {
   "cell_type": "code",
   "execution_count": 104,
   "id": "9aaf68d3",
   "metadata": {},
   "outputs": [
    {
     "data": {
      "image/png": "[encoded data removed]",
      "text/plain": [
       "<Figure size 432x288 with 1 Axes>"
      ]
     },
     "metadata": {
      "needs_background": "light"
     },
     "output_type": "display_data"
    }
   ],
   "source": [
    "probs_ada=clf_ABC1.predict_proba(X_train)[:,1]\n",
    "fpr, tpr, threshold=metrics.roc_curve(y_train,probs_ada)\n",
    "plt.plot([0,1],[0,1],'k--')\n",
    "plt.plot(fpr,tpr, label='Knn')\n",
    "plt.xlabel('fpr')\n",
    "plt.ylabel('tpr')\n",
    "plt.show()"
   ]
  },
  {
   "cell_type": "code",
   "execution_count": 105,
   "id": "d3869457",
   "metadata": {},
   "outputs": [
    {
     "data": {
      "text/plain": [
       "0.8926508278751881"
      ]
     },
     "execution_count": 105,
     "metadata": {},
     "output_type": "execute_result"
    }
   ],
   "source": [
    "metrics.roc_auc_score(y_train,probs_ada)"
   ]
  },
  {
   "cell_type": "code",
   "execution_count": 106,
   "id": "b930e46f",
   "metadata": {},
   "outputs": [
    {
     "data": {
      "text/html": [
       "<div>\n",
       "<style scoped>\n",
       "    .dataframe tbody tr th:only-of-type {\n",
       "        vertical-align: middle;\n",
       "    }\n",
       "\n",
       "    .dataframe tbody tr th {\n",
       "        vertical-align: top;\n",
       "    }\n",
       "\n",
       "    .dataframe thead th {\n",
       "        text-align: right;\n",
       "    }\n",
       "</style>\n",
       "<table border=\"1\" class=\"dataframe\">\n",
       "  <thead>\n",
       "    <tr style=\"text-align: right;\">\n",
       "      <th></th>\n",
       "      <th>Accuracy Score</th>\n",
       "      <th>Kappa Score</th>\n",
       "      <th>Model</th>\n",
       "      <th>Precision Score</th>\n",
       "      <th>ROC Score</th>\n",
       "      <th>Recall Score</th>\n",
       "    </tr>\n",
       "  </thead>\n",
       "  <tbody>\n",
       "    <tr>\n",
       "      <th>0</th>\n",
       "      <td>0.742647</td>\n",
       "      <td>0.476146</td>\n",
       "      <td>Ada boost Classifier</td>\n",
       "      <td>0.777778</td>\n",
       "      <td>0.892651</td>\n",
       "      <td>0.767742</td>\n",
       "    </tr>\n",
       "  </tbody>\n",
       "</table>\n",
       "</div>"
      ],
      "text/plain": [
       "   Accuracy Score  Kappa Score                   Model  Precision Score  \\\n",
       "0        0.742647     0.476146   Ada boost Classifier          0.777778   \n",
       "\n",
       "   ROC Score  Recall Score  \n",
       "0   0.892651      0.767742  "
      ]
     },
     "execution_count": 106,
     "metadata": {},
     "output_type": "execute_result"
    }
   ],
   "source": [
    "models_report_ada=pd.DataFrame()\n",
    "tmp3 = pd.Series({'Model': \" Ada boost Classifier \",\n",
    "                 'ROC Score' : metrics.roc_auc_score(y_train,probs_ada),\n",
    "                 'Precision Score': metrics.precision_score(y_test, y_pred_ABC1),\n",
    "                 'Recall Score': metrics.recall_score(y_test, y_pred_ABC1),\n",
    "                 'Accuracy Score': metrics.accuracy_score(y_test, y_pred_ABC1),\n",
    "                 'Kappa Score':metrics.cohen_kappa_score(y_test, y_pred_ABC1)})\n",
    "\n",
    "model_ada_report = models_report_ada.append(tmp3, ignore_index = True)\n",
    "model_ada_report"
   ]
  },
  {
   "cell_type": "code",
   "execution_count": null,
   "id": "42e16f2a",
   "metadata": {},
   "outputs": [],
   "source": []
  },
  {
   "cell_type": "markdown",
   "id": "ba913e12",
   "metadata": {},
   "source": [
    "## svm"
   ]
  },
  {
   "cell_type": "code",
   "execution_count": 107,
   "id": "c1c2978e",
   "metadata": {},
   "outputs": [],
   "source": [
    "from sklearn import metrics\n",
    "from sklearn import svm "
   ]
  },
  {
   "cell_type": "code",
   "execution_count": 108,
   "id": "0511dbdb",
   "metadata": {},
   "outputs": [],
   "source": [
    "from sklearn.preprocessing import StandardScaler  \n",
    "import numpy as np\n",
    "\n",
    "# standardized the dataset\n",
    "sc=StandardScaler()\n",
    "sc_fit=sc.fit(X_train)"
   ]
  },
  {
   "cell_type": "code",
   "execution_count": 109,
   "id": "71e56e9d",
   "metadata": {},
   "outputs": [],
   "source": [
    "X_train_sc=sc_fit.transform(X_train)\n",
    "X_test_sc=sc_fit.transform(X_test)"
   ]
  },
  {
   "cell_type": "code",
   "execution_count": 110,
   "id": "db226d50",
   "metadata": {},
   "outputs": [],
   "source": [
    "X_train_sc_df=pd.DataFrame(X_train_sc, columns=X_train.columns)\n",
    "X_test_sc_df=pd.DataFrame(X_test_sc, columns=X_test.columns)"
   ]
  },
  {
   "cell_type": "code",
   "execution_count": 111,
   "id": "ece5798c",
   "metadata": {},
   "outputs": [
    {
     "name": "stdout",
     "output_type": "stream",
     "text": [
      "Train score : 0.7460901563937442\n",
      "Test score : 0.7316176470588235\n"
     ]
    },
    {
     "name": "stderr",
     "output_type": "stream",
     "text": [
      "C:\\python\\lib\\site-packages\\sklearn\\svm\\_base.py:1206: ConvergenceWarning: Liblinear failed to converge, increase the number of iterations.\n",
      "  warnings.warn(\n"
     ]
    }
   ],
   "source": [
    "sv1=svm.LinearSVC()\n",
    "\n",
    "sv1.fit(X_train_sc_df, y_train)\n",
    "print(\"Train score :\", sv1.score(X_train_sc_df, y_train))\n",
    "print(\"Test score :\", sv1.score(X_test_sc_df, y_test))"
   ]
  },
  {
   "cell_type": "code",
   "execution_count": 112,
   "id": "92c7829a",
   "metadata": {},
   "outputs": [
    {
     "name": "stdout",
     "output_type": "stream",
     "text": [
      "Train score : 0.7488500459981601\n",
      "Test score : 0.7316176470588235\n"
     ]
    },
    {
     "name": "stderr",
     "output_type": "stream",
     "text": [
      "C:\\python\\lib\\site-packages\\sklearn\\svm\\_base.py:1206: ConvergenceWarning: Liblinear failed to converge, increase the number of iterations.\n",
      "  warnings.warn(\n"
     ]
    }
   ],
   "source": [
    "sv1=svm.LinearSVC(C=10)\n",
    "\n",
    "sv1.fit(X_train_sc_df, y_train)\n",
    "print(\"Train score :\", sv1.score(X_train_sc_df, y_train))\n",
    "print(\"Test score :\", sv1.score(X_test_sc_df, y_test))"
   ]
  },
  {
   "cell_type": "code",
   "execution_count": 113,
   "id": "8da6c475",
   "metadata": {},
   "outputs": [
    {
     "name": "stdout",
     "output_type": "stream",
     "text": [
      "Train score : 0.7828886844526219\n",
      "Test score : 0.7389705882352942\n"
     ]
    }
   ],
   "source": [
    "sv2=svm.SVC(probability=True)\n",
    "sv2.fit(X_train_sc_df, y_train)\n",
    "print(\"Train score :\", sv2.score(X_train_sc_df, y_train))\n",
    "print(\"Test score :\", sv2.score(X_test_sc_df, y_test))"
   ]
  },
  {
   "cell_type": "code",
   "execution_count": 114,
   "id": "e403abf2",
   "metadata": {},
   "outputs": [
    {
     "name": "stdout",
     "output_type": "stream",
     "text": [
      "Train score : 0.7442502299908004\n",
      "Test score : 0.7316176470588235\n"
     ]
    }
   ],
   "source": [
    "sv2=svm.SVC(kernel=\"linear\", C=10)\n",
    "sv2.fit(X_train_sc_df, y_train)\n",
    "print(\"Train score :\", sv2.score(X_train_sc_df, y_train))\n",
    "print(\"Test score :\", sv2.score(X_test_sc_df, y_test))"
   ]
  },
  {
   "cell_type": "code",
   "execution_count": 115,
   "id": "19af6eae",
   "metadata": {},
   "outputs": [
    {
     "name": "stdout",
     "output_type": "stream",
     "text": [
      "Train score : 0.7828886844526219\n",
      "Test score : 0.7389705882352942\n"
     ]
    }
   ],
   "source": [
    "sv2=svm.SVC(kernel=\"rbf\")\n",
    "sv2.fit(X_train_sc_df, y_train)\n",
    "print(\"Train score :\", sv2.score(X_train_sc_df, y_train))\n",
    "print(\"Test score :\", sv2.score(X_test_sc_df, y_test))"
   ]
  },
  {
   "cell_type": "code",
   "execution_count": 116,
   "id": "0f25e42e",
   "metadata": {},
   "outputs": [
    {
     "name": "stdout",
     "output_type": "stream",
     "text": [
      "Train score : 0.7442502299908004\n",
      "Test score : 0.7352941176470589\n"
     ]
    }
   ],
   "source": [
    "sv2=svm.SVC(kernel=\"poly\", degree=1)\n",
    "sv2.fit(X_train_sc_df, y_train)\n",
    "print(\"Train score :\", sv2.score(X_train_sc_df, y_train))\n",
    "print(\"Test score :\", sv2.score(X_test_sc_df, y_test))"
   ]
  },
  {
   "cell_type": "code",
   "execution_count": 117,
   "id": "05aaf551",
   "metadata": {},
   "outputs": [
    {
     "name": "stdout",
     "output_type": "stream",
     "text": [
      "Fitting 10 folds for each of 81 candidates, totalling 810 fits\n"
     ]
    },
    {
     "data": {
      "text/plain": [
       "GridSearchCV(cv=10, estimator=SVC(), n_jobs=-1,\n",
       "             param_grid={'C': [1, 10, 100], 'degree': [2, 3, 4],\n",
       "                         'gamma': [0.1, 1, 0.001],\n",
       "                         'kernel': ['linear', 'poly', 'rbf']},\n",
       "             verbose=True)"
      ]
     },
     "execution_count": 117,
     "metadata": {},
     "output_type": "execute_result"
    }
   ],
   "source": [
    "from sklearn.model_selection import GridSearchCV\n",
    "\n",
    "params={\"kernel\":['linear', 'poly', 'rbf'],\n",
    "       \"degree\":[2,3,4],\n",
    "       \"gamma\":[0.1, 1,.001],\n",
    "       \"C\":[1, 10, 100]\n",
    "       }\n",
    "sv=svm.SVC()\n",
    "svm_rs=GridSearchCV(sv, params, cv=10, n_jobs=-1, verbose=True)\n",
    "svm_rs.fit(X_train_sc_df, y_train)"
   ]
  },
  {
   "cell_type": "code",
   "execution_count": 118,
   "id": "38b554ac",
   "metadata": {},
   "outputs": [
    {
     "data": {
      "text/plain": [
       "{'C': 100, 'degree': 2, 'gamma': 0.001, 'kernel': 'rbf'}"
      ]
     },
     "execution_count": 118,
     "metadata": {},
     "output_type": "execute_result"
    }
   ],
   "source": [
    "svm_rs.best_params_"
   ]
  },
  {
   "cell_type": "code",
   "execution_count": 119,
   "id": "6b44383d",
   "metadata": {},
   "outputs": [
    {
     "data": {
      "text/plain": [
       "0.7470438328236493"
      ]
     },
     "execution_count": 119,
     "metadata": {},
     "output_type": "execute_result"
    }
   ],
   "source": [
    "svm_rs.best_score_"
   ]
  },
  {
   "cell_type": "code",
   "execution_count": 120,
   "id": "9eb734bf",
   "metadata": {},
   "outputs": [
    {
     "name": "stdout",
     "output_type": "stream",
     "text": [
      "Train score : 0.7506899724011039\n",
      "Test score : 0.7389705882352942\n"
     ]
    }
   ],
   "source": [
    "sv3=svm.SVC(kernel=svm_rs.best_params_['kernel'], \n",
    "            degree=svm_rs.best_params_['degree'], \n",
    "            probability=True,\n",
    "            C=svm_rs.best_params_['C'],\n",
    "            gamma=svm_rs.best_params_['gamma'])\n",
    "sv3.fit(X_train_sc_df, y_train)\n",
    "print(\"Train score :\", sv3.score(X_train_sc_df, y_train))\n",
    "print(\"Test score :\", sv3.score(X_test_sc_df, y_test))"
   ]
  },
  {
   "cell_type": "code",
   "execution_count": 121,
   "id": "841c6dae",
   "metadata": {},
   "outputs": [],
   "source": [
    "pred_train_sv = sv3.predict(X_train_sc_df)\n",
    "pred_test_sv = sv3.predict(X_test_sc_df)"
   ]
  },
  {
   "cell_type": "code",
   "execution_count": 122,
   "id": "f273cbde",
   "metadata": {},
   "outputs": [
    {
     "name": "stdout",
     "output_type": "stream",
     "text": [
      "              precision    recall  f1-score   support\n",
      "\n",
      "           0       0.72      0.78      0.75       523\n",
      "           1       0.78      0.72      0.75       564\n",
      "\n",
      "    accuracy                           0.75      1087\n",
      "   macro avg       0.75      0.75      0.75      1087\n",
      "weighted avg       0.75      0.75      0.75      1087\n",
      "\n"
     ]
    }
   ],
   "source": [
    "print(metrics.classification_report(y_train,pred_train_sv))"
   ]
  },
  {
   "cell_type": "code",
   "execution_count": 123,
   "id": "aa855527",
   "metadata": {},
   "outputs": [
    {
     "name": "stdout",
     "output_type": "stream",
     "text": [
      "              precision    recall  f1-score   support\n",
      "\n",
      "           0       0.68      0.75      0.71       117\n",
      "           1       0.80      0.73      0.76       155\n",
      "\n",
      "    accuracy                           0.74       272\n",
      "   macro avg       0.74      0.74      0.74       272\n",
      "weighted avg       0.74      0.74      0.74       272\n",
      "\n"
     ]
    }
   ],
   "source": [
    "print(metrics.classification_report(y_test,pred_test_sv))"
   ]
  },
  {
   "cell_type": "markdown",
   "id": "7880d733",
   "metadata": {},
   "source": [
    "function for auc curve"
   ]
  },
  {
   "cell_type": "code",
   "execution_count": 124,
   "id": "fa342e99",
   "metadata": {},
   "outputs": [
    {
     "data": {
      "image/png": "[encoded data removed]",
      "text/plain": [
       "<Figure size 432x288 with 1 Axes>"
      ]
     },
     "metadata": {
      "needs_background": "light"
     },
     "output_type": "display_data"
    },
    {
     "name": "stdout",
     "output_type": "stream",
     "text": [
      "{'Accuracy': 0.7389705882352942, 'Recall': 0.7290322580645161, 'Precision': 0.795774647887324, 'F1_Score': 0.7609427609427609, 'FPR': 0.3230769230769231, 'AUC': 0.8287565481113869}\n"
     ]
    },
    {
     "data": {
      "text/plain": [
       "{'Accuracy': 0.7389705882352942,\n",
       " 'Recall': 0.7290322580645161,\n",
       " 'Precision': 0.795774647887324,\n",
       " 'F1_Score': 0.7609427609427609,\n",
       " 'FPR': 0.3230769230769231,\n",
       " 'AUC': 0.8287565481113869}"
      ]
     },
     "execution_count": 124,
     "metadata": {},
     "output_type": "execute_result"
    }
   ],
   "source": [
    "def model_evaluation(X,y, trained_model, name_of_model=\"Classification\"):\n",
    "    \"\"\"\n",
    "    This function will return the performance metrics for classification model \n",
    "    i.e. accuracy , recall etc\n",
    "    \"\"\"\n",
    "    from sklearn import metrics\n",
    "    x1=X.copy()\n",
    "    y1=y.copy()\n",
    "    p_y1=trained_model.predict(x1)\n",
    "    mt=metrics.confusion_matrix(y1, p_y1)\n",
    "    Accuracy =(mt[0,0]+mt[1,1])/x1.shape[0]\n",
    "    Recall= mt[1,1]/ ( mt[1,0]+mt[1,1])\n",
    "    Precision= mt[1,1]/ ( mt[0,1]+mt[1,1])\n",
    "    F1_Score = (2*Recall*Precision)/ (Recall+Precision)\n",
    "    FPR=mt[1,0]/ (mt[1,0]+mt[0,0])\n",
    "    \n",
    "    probs=trained_model.predict_proba(x1)[:,1]\n",
    "    \n",
    "    fpr, tpr, threshold=metrics.roc_curve(y1,probs )\n",
    "    plt.plot([0,1],[0,1],'k--')\n",
    "    plt.plot(fpr,tpr)\n",
    "    plt.title(name_of_model)\n",
    "    plt.xlabel('fpr')\n",
    "    plt.ylabel('tpr')\n",
    "    plt.show()\n",
    "#     f=pd.DataFrame(performance)\n",
    "    performance={\"Accuracy\":Accuracy, \"Recall\":Recall, \n",
    "                 \"Precision\" :Precision, \"F1_Score\":F1_Score,\n",
    "                 \"FPR\":FPR,\n",
    "                \"AUC\":metrics.roc_auc_score(y1,probs)}\n",
    "    print(performance)\n",
    "    return performance\n",
    "a = model_evaluation(X_test_sc_df, y_test, sv3)\n",
    "a"
   ]
  },
  {
   "cell_type": "code",
   "execution_count": 125,
   "id": "a0716068",
   "metadata": {},
   "outputs": [
    {
     "data": {
      "text/html": [
       "<div>\n",
       "<style scoped>\n",
       "    .dataframe tbody tr th:only-of-type {\n",
       "        vertical-align: middle;\n",
       "    }\n",
       "\n",
       "    .dataframe tbody tr th {\n",
       "        vertical-align: top;\n",
       "    }\n",
       "\n",
       "    .dataframe thead th {\n",
       "        text-align: right;\n",
       "    }\n",
       "</style>\n",
       "<table border=\"1\" class=\"dataframe\">\n",
       "  <thead>\n",
       "    <tr style=\"text-align: right;\">\n",
       "      <th></th>\n",
       "      <th>Accuracy Score</th>\n",
       "      <th>Model</th>\n",
       "      <th>Precision Score</th>\n",
       "      <th>ROC Score</th>\n",
       "      <th>Recall Score</th>\n",
       "    </tr>\n",
       "  </thead>\n",
       "  <tbody>\n",
       "    <tr>\n",
       "      <th>0</th>\n",
       "      <td>0.738971</td>\n",
       "      <td>SVM</td>\n",
       "      <td>0.795775</td>\n",
       "      <td>0.828757</td>\n",
       "      <td>0.729032</td>\n",
       "    </tr>\n",
       "  </tbody>\n",
       "</table>\n",
       "</div>"
      ],
      "text/plain": [
       "   Accuracy Score  Model  Precision Score  ROC Score  Recall Score\n",
       "0        0.738971   SVM          0.795775   0.828757      0.729032"
      ]
     },
     "execution_count": 125,
     "metadata": {},
     "output_type": "execute_result"
    }
   ],
   "source": [
    "models_report_svm=pd.DataFrame()\n",
    "tmp3 = pd.Series({'Model': \" SVM \",\n",
    "                 'ROC Score' : a['AUC'],\n",
    "                 'Precision Score': a['Precision'],\n",
    "                 'Recall Score': a['Recall'],\n",
    "                 'Accuracy Score': a['Accuracy']})\n",
    "\n",
    "model_svm_report = models_report_svm.append(tmp3, ignore_index = True)\n",
    "model_svm_report"
   ]
  },
  {
   "cell_type": "code",
   "execution_count": null,
   "id": "5141655c",
   "metadata": {},
   "outputs": [],
   "source": []
  },
  {
   "cell_type": "code",
   "execution_count": null,
   "id": "c3cd8b4e",
   "metadata": {},
   "outputs": [],
   "source": []
  },
  {
   "cell_type": "markdown",
   "id": "1d36989c",
   "metadata": {},
   "source": [
    "## KNN"
   ]
  },
  {
   "cell_type": "code",
   "execution_count": 126,
   "id": "8aca8349",
   "metadata": {},
   "outputs": [],
   "source": [
    "X_train, X_test, y_train , y_test=train_test_split(X, y, test_size=.25, random_state=88)"
   ]
  },
  {
   "cell_type": "code",
   "execution_count": 127,
   "id": "d5888f8a",
   "metadata": {},
   "outputs": [],
   "source": [
    "from sklearn.preprocessing import StandardScaler, MinMaxScaler\n",
    "from sklearn.neighbors import KNeighborsClassifier"
   ]
  },
  {
   "cell_type": "code",
   "execution_count": 128,
   "id": "8782d5ca",
   "metadata": {},
   "outputs": [],
   "source": [
    "scale=MinMaxScaler()\n",
    "\n",
    "X_train_scaled=scale.fit_transform(X_train)\n",
    "X_test_scaled=scale.transform(X_test)\n",
    "# X_train_scaled"
   ]
  },
  {
   "cell_type": "code",
   "execution_count": 129,
   "id": "eeb6299c",
   "metadata": {},
   "outputs": [],
   "source": [
    "X_train_scaled=pd.DataFrame(X_train_scaled, columns=X_train.columns)"
   ]
  },
  {
   "cell_type": "code",
   "execution_count": 130,
   "id": "6828afb8",
   "metadata": {},
   "outputs": [],
   "source": [
    "X_test_scaled=pd.DataFrame(X_test_scaled, columns=X_test.columns)"
   ]
  },
  {
   "cell_type": "code",
   "execution_count": 131,
   "id": "c0c84d63",
   "metadata": {},
   "outputs": [
    {
     "name": "stdout",
     "output_type": "stream",
     "text": [
      "Train Score : 0.8105986261040236\n",
      "Test Score : 0.6794117647058824\n"
     ]
    }
   ],
   "source": [
    "from sklearn.neighbors import KNeighborsClassifier\n",
    "knn=KNeighborsClassifier()\n",
    "knn.fit(X_train_scaled, y_train)\n",
    "print(\"Train Score :\", knn.score(X_train_scaled, y_train))\n",
    "print(\"Test Score :\", knn.score(X_test_scaled, y_test)) "
   ]
  },
  {
   "cell_type": "code",
   "execution_count": null,
   "id": "8081a8e3",
   "metadata": {},
   "outputs": [],
   "source": []
  },
  {
   "cell_type": "markdown",
   "id": "2d3f8fe9",
   "metadata": {},
   "source": [
    "graph for optimal value of k"
   ]
  },
  {
   "cell_type": "code",
   "execution_count": 132,
   "id": "fb41d1ac",
   "metadata": {},
   "outputs": [],
   "source": [
    "k=[]\n",
    "accuracy_train=[]\n",
    "accuracy_test=[]\n",
    "for i in range(1,50,2):\n",
    "    knni=KNeighborsClassifier(n_neighbors=i)\n",
    "    knni.fit(X_train_scaled, y_train)\n",
    "    accuracy_train.append(knni.score(X_train_scaled, y_train))\n",
    "    accuracy_test.append(knni.score(X_test_scaled, y_test))\n",
    "    k.append(i)"
   ]
  },
  {
   "cell_type": "code",
   "execution_count": 133,
   "id": "a573822b",
   "metadata": {},
   "outputs": [
    {
     "data": {
      "image/png": "[encoded data removed]",
      "text/plain": [
       "<Figure size 864x432 with 1 Axes>"
      ]
     },
     "metadata": {
      "needs_background": "light"
     },
     "output_type": "display_data"
    }
   ],
   "source": [
    "plt.figure( figsize=(12,6))\n",
    "plt.plot(k, accuracy_train, label=\"Train_accuracy\", color=\"r\")\n",
    "plt.plot(k, accuracy_test, label=\"Test_accuracy\", color=\"b\")\n",
    "plt.legend()\n",
    "plt.xlabel(\"Neighbors\")\n",
    "plt.ylabel(\"Accuracy\")\n",
    "plt.show()"
   ]
  },
  {
   "cell_type": "code",
   "execution_count": 134,
   "id": "95cedb8e",
   "metadata": {},
   "outputs": [
    {
     "name": "stdout",
     "output_type": "stream",
     "text": [
      "Train Score : 0.7664376840039254\n",
      "Test Score : 0.7205882352941176\n"
     ]
    }
   ],
   "source": [
    "knn1=KNeighborsClassifier(n_neighbors=29)\n",
    "knn1.fit(X_train_scaled, y_train)\n",
    "print(\"Train Score :\", knn1.score(X_train_scaled, y_train))\n",
    "print(\"Test Score :\", knn1.score(X_test_scaled, y_test)) "
   ]
  },
  {
   "cell_type": "code",
   "execution_count": 135,
   "id": "565d1b74",
   "metadata": {},
   "outputs": [
    {
     "data": {
      "image/png": "[encoded data removed]",
      "text/plain": [
       "<Figure size 432x288 with 1 Axes>"
      ]
     },
     "metadata": {
      "needs_background": "light"
     },
     "output_type": "display_data"
    },
    {
     "name": "stdout",
     "output_type": "stream",
     "text": [
      "{'Accuracy': 0.7205882352941176, 'Recall': 0.7215909090909091, 'Precision': 0.7341040462427746, 'F1_Score': 0.7277936962750717, 'FPR': 0.2934131736526946, 'AUC': 0.7872436252771619}\n"
     ]
    }
   ],
   "source": [
    "b= model_evaluation(X_test_scaled, y_test, knn1)"
   ]
  },
  {
   "cell_type": "code",
   "execution_count": 136,
   "id": "8ce310af",
   "metadata": {},
   "outputs": [
    {
     "data": {
      "text/html": [
       "<div>\n",
       "<style scoped>\n",
       "    .dataframe tbody tr th:only-of-type {\n",
       "        vertical-align: middle;\n",
       "    }\n",
       "\n",
       "    .dataframe tbody tr th {\n",
       "        vertical-align: top;\n",
       "    }\n",
       "\n",
       "    .dataframe thead th {\n",
       "        text-align: right;\n",
       "    }\n",
       "</style>\n",
       "<table border=\"1\" class=\"dataframe\">\n",
       "  <thead>\n",
       "    <tr style=\"text-align: right;\">\n",
       "      <th></th>\n",
       "      <th>Accuracy Score</th>\n",
       "      <th>Model</th>\n",
       "      <th>Precision Score</th>\n",
       "      <th>ROC Score</th>\n",
       "      <th>Recall Score</th>\n",
       "    </tr>\n",
       "  </thead>\n",
       "  <tbody>\n",
       "    <tr>\n",
       "      <th>0</th>\n",
       "      <td>0.720588</td>\n",
       "      <td>KNN</td>\n",
       "      <td>0.734104</td>\n",
       "      <td>0.787244</td>\n",
       "      <td>0.721591</td>\n",
       "    </tr>\n",
       "  </tbody>\n",
       "</table>\n",
       "</div>"
      ],
      "text/plain": [
       "   Accuracy Score  Model  Precision Score  ROC Score  Recall Score\n",
       "0        0.720588   KNN          0.734104   0.787244      0.721591"
      ]
     },
     "execution_count": 136,
     "metadata": {},
     "output_type": "execute_result"
    }
   ],
   "source": [
    "models_report_knn=pd.DataFrame()\n",
    "tmp3 = pd.Series({'Model': \" KNN \",\n",
    "                 'ROC Score' : b['AUC'],\n",
    "                 'Precision Score': b['Precision'],\n",
    "                 'Recall Score': b['Recall'],\n",
    "                 'Accuracy Score': b['Accuracy']})\n",
    "\n",
    "model_knn_report = models_report_knn.append(tmp3, ignore_index = True)\n",
    "model_knn_report"
   ]
  },
  {
   "cell_type": "code",
   "execution_count": null,
   "id": "14f0c5ab",
   "metadata": {},
   "outputs": [],
   "source": []
  },
  {
   "cell_type": "markdown",
   "id": "8d13fd76",
   "metadata": {},
   "source": [
    "## Naive bayes"
   ]
  },
  {
   "cell_type": "code",
   "execution_count": 137,
   "id": "f79b47b8",
   "metadata": {},
   "outputs": [],
   "source": [
    "X_train,X_test,y_train,y_test=train_test_split(X,y,test_size=.25,random_state=88)"
   ]
  },
  {
   "cell_type": "code",
   "execution_count": 138,
   "id": "214aa9b6",
   "metadata": {},
   "outputs": [],
   "source": [
    "from sklearn.preprocessing import MinMaxScaler, StandardScaler\n",
    "from sklearn.naive_bayes import GaussianNB\n",
    "\n",
    "mn=MinMaxScaler()\n",
    "\n",
    "mn_fit=mn.fit(X_train)\n",
    "\n",
    "X_train_mn=mn_fit.transform(X_train)\n",
    "\n",
    "X_test_mn=mn_fit.transform(X_test)\n",
    "\n",
    "X_train_mn=pd.DataFrame(X_train_mn,columns=X_train.columns)\n",
    "\n",
    "X_test_mn=pd.DataFrame(X_test_mn,columns=X_test.columns)"
   ]
  },
  {
   "cell_type": "code",
   "execution_count": 139,
   "id": "9b791561",
   "metadata": {},
   "outputs": [],
   "source": [
    "nbm=GaussianNB()"
   ]
  },
  {
   "cell_type": "code",
   "execution_count": 140,
   "id": "8ee4c687",
   "metadata": {},
   "outputs": [
    {
     "name": "stdout",
     "output_type": "stream",
     "text": [
      "Train Accuracy  0.7487733071638861\n",
      "Test Accuracy  0.6764705882352942\n"
     ]
    }
   ],
   "source": [
    "mm=GaussianNB()\n",
    "mm.fit(X_train_mn,y_train)\n",
    "print(\"Train Accuracy \",mm.score(X_train_mn,y_train))\n",
    "print(\"Test Accuracy \",mm.score(X_test_mn,y_test))"
   ]
  },
  {
   "cell_type": "code",
   "execution_count": 141,
   "id": "12f36f09",
   "metadata": {},
   "outputs": [],
   "source": [
    "nbm0=nbm.fit(X_train_mn, y_train)"
   ]
  },
  {
   "cell_type": "code",
   "execution_count": 142,
   "id": "50dc7aa2",
   "metadata": {},
   "outputs": [],
   "source": [
    "pred_train=mm.predict(X_train_mn)\n",
    "pred_test=mm.predict(X_test_mn)"
   ]
  },
  {
   "cell_type": "code",
   "execution_count": 143,
   "id": "c6df0104",
   "metadata": {},
   "outputs": [
    {
     "name": "stdout",
     "output_type": "stream",
     "text": [
      "              precision    recall  f1-score   support\n",
      "\n",
      "           0       0.72      0.75      0.74       476\n",
      "           1       0.77      0.75      0.76       543\n",
      "\n",
      "    accuracy                           0.75      1019\n",
      "   macro avg       0.75      0.75      0.75      1019\n",
      "weighted avg       0.75      0.75      0.75      1019\n",
      "\n"
     ]
    }
   ],
   "source": [
    "print(metrics.classification_report(y_train, pred_train)) "
   ]
  },
  {
   "cell_type": "code",
   "execution_count": 144,
   "id": "70ab08d7",
   "metadata": {},
   "outputs": [
    {
     "name": "stdout",
     "output_type": "stream",
     "text": [
      "              precision    recall  f1-score   support\n",
      "\n",
      "           0       0.64      0.76      0.69       164\n",
      "           1       0.73      0.60      0.66       176\n",
      "\n",
      "    accuracy                           0.68       340\n",
      "   macro avg       0.68      0.68      0.68       340\n",
      "weighted avg       0.68      0.68      0.67       340\n",
      "\n"
     ]
    }
   ],
   "source": [
    "print(metrics.classification_report(y_test, pred_test)) "
   ]
  },
  {
   "cell_type": "code",
   "execution_count": 145,
   "id": "291967f2",
   "metadata": {},
   "outputs": [
    {
     "data": {
      "image/png": "[encoded data removed]",
      "text/plain": [
       "<Figure size 432x288 with 1 Axes>"
      ]
     },
     "metadata": {
      "needs_background": "light"
     },
     "output_type": "display_data"
    }
   ],
   "source": [
    "probs_nb=mm.predict_proba(X_train_mn)[:,1]\n",
    "fpr, tpr, threshold=metrics.roc_curve(y_train,probs_nb)\n",
    "plt.plot([0,1],[0,1],'k--')\n",
    "plt.plot(fpr,tpr, label='Knn')\n",
    "plt.xlabel('fpr')\n",
    "plt.ylabel('tpr')\n",
    "plt.show()"
   ]
  },
  {
   "cell_type": "code",
   "execution_count": 146,
   "id": "a88b7592",
   "metadata": {},
   "outputs": [
    {
     "data": {
      "text/plain": [
       "0.8270346812758252"
      ]
     },
     "execution_count": 146,
     "metadata": {},
     "output_type": "execute_result"
    }
   ],
   "source": [
    "metrics.roc_auc_score(y_train,probs_nb)"
   ]
  },
  {
   "cell_type": "code",
   "execution_count": 147,
   "id": "4d96e92b",
   "metadata": {},
   "outputs": [
    {
     "data": {
      "text/html": [
       "<div>\n",
       "<style scoped>\n",
       "    .dataframe tbody tr th:only-of-type {\n",
       "        vertical-align: middle;\n",
       "    }\n",
       "\n",
       "    .dataframe tbody tr th {\n",
       "        vertical-align: top;\n",
       "    }\n",
       "\n",
       "    .dataframe thead th {\n",
       "        text-align: right;\n",
       "    }\n",
       "</style>\n",
       "<table border=\"1\" class=\"dataframe\">\n",
       "  <thead>\n",
       "    <tr style=\"text-align: right;\">\n",
       "      <th></th>\n",
       "      <th>Accuracy Score</th>\n",
       "      <th>Kappa Score</th>\n",
       "      <th>Model</th>\n",
       "      <th>Precision Score</th>\n",
       "      <th>ROC Score</th>\n",
       "      <th>Recall Score</th>\n",
       "    </tr>\n",
       "  </thead>\n",
       "  <tbody>\n",
       "    <tr>\n",
       "      <th>0</th>\n",
       "      <td>0.676471</td>\n",
       "      <td>0.356149</td>\n",
       "      <td>Naive Bayes</td>\n",
       "      <td>0.726027</td>\n",
       "      <td>0.827035</td>\n",
       "      <td>0.602273</td>\n",
       "    </tr>\n",
       "  </tbody>\n",
       "</table>\n",
       "</div>"
      ],
      "text/plain": [
       "   Accuracy Score  Kappa Score          Model  Precision Score  ROC Score  \\\n",
       "0        0.676471     0.356149   Naive Bayes          0.726027   0.827035   \n",
       "\n",
       "   Recall Score  \n",
       "0      0.602273  "
      ]
     },
     "execution_count": 147,
     "metadata": {},
     "output_type": "execute_result"
    }
   ],
   "source": [
    "models_report_nb=pd.DataFrame()\n",
    "tmp3 = pd.Series({'Model': \" Naive Bayes \",\n",
    "                 'ROC Score' : metrics.roc_auc_score(y_train,probs_nb),\n",
    "                 'Precision Score': metrics.precision_score(y_test, pred_test),\n",
    "                 'Recall Score': metrics.recall_score(y_test, pred_test),\n",
    "                 'Accuracy Score': metrics.accuracy_score(y_test, pred_test),\n",
    "                 'Kappa Score':metrics.cohen_kappa_score(y_test, pred_test)})\n",
    "\n",
    "model_nb_report = models_report_nb.append(tmp3, ignore_index = True)\n",
    "model_nb_report"
   ]
  },
  {
   "cell_type": "code",
   "execution_count": null,
   "id": "5856b487",
   "metadata": {},
   "outputs": [],
   "source": []
  },
  {
   "cell_type": "markdown",
   "id": "03507b28",
   "metadata": {},
   "source": [
    "## Model evaluation"
   ]
  },
  {
   "cell_type": "code",
   "execution_count": 148,
   "id": "9faa5740",
   "metadata": {},
   "outputs": [],
   "source": [
    "review = pd.concat([model_log_report,model_dt1_report,model_rf1_report,model_nb_report,model_xgb_report,\n",
    "                    model_ada_report,model_knn_report,model_svm_report], ignore_index=True)"
   ]
  },
  {
   "cell_type": "code",
   "execution_count": 149,
   "id": "fc5f8e85",
   "metadata": {},
   "outputs": [
    {
     "data": {
      "text/html": [
       "<div>\n",
       "<style scoped>\n",
       "    .dataframe tbody tr th:only-of-type {\n",
       "        vertical-align: middle;\n",
       "    }\n",
       "\n",
       "    .dataframe tbody tr th {\n",
       "        vertical-align: top;\n",
       "    }\n",
       "\n",
       "    .dataframe thead th {\n",
       "        text-align: right;\n",
       "    }\n",
       "</style>\n",
       "<table border=\"1\" class=\"dataframe\">\n",
       "  <thead>\n",
       "    <tr style=\"text-align: right;\">\n",
       "      <th></th>\n",
       "      <th>Accuracy Score</th>\n",
       "      <th>Kappa Score</th>\n",
       "      <th>Model</th>\n",
       "      <th>Precision Score</th>\n",
       "      <th>ROC Score</th>\n",
       "      <th>Recall Score</th>\n",
       "    </tr>\n",
       "  </thead>\n",
       "  <tbody>\n",
       "    <tr>\n",
       "      <th>0</th>\n",
       "      <td>0.735294</td>\n",
       "      <td>0.467855</td>\n",
       "      <td>Logisitic</td>\n",
       "      <td>0.794326</td>\n",
       "      <td>0.824129</td>\n",
       "      <td>0.722581</td>\n",
       "    </tr>\n",
       "    <tr>\n",
       "      <th>1</th>\n",
       "      <td>0.683824</td>\n",
       "      <td>0.352345</td>\n",
       "      <td>Decision Tree Classifier</td>\n",
       "      <td>0.716981</td>\n",
       "      <td>0.819151</td>\n",
       "      <td>0.735484</td>\n",
       "    </tr>\n",
       "    <tr>\n",
       "      <th>2</th>\n",
       "      <td>0.742647</td>\n",
       "      <td>0.480491</td>\n",
       "      <td>Random Forest Classifier</td>\n",
       "      <td>0.793103</td>\n",
       "      <td>0.876307</td>\n",
       "      <td>0.741935</td>\n",
       "    </tr>\n",
       "    <tr>\n",
       "      <th>3</th>\n",
       "      <td>0.676471</td>\n",
       "      <td>0.356149</td>\n",
       "      <td>Naive Bayes</td>\n",
       "      <td>0.726027</td>\n",
       "      <td>0.827035</td>\n",
       "      <td>0.602273</td>\n",
       "    </tr>\n",
       "    <tr>\n",
       "      <th>4</th>\n",
       "      <td>0.735294</td>\n",
       "      <td>0.463423</td>\n",
       "      <td>Xgboost Classifier</td>\n",
       "      <td>0.778523</td>\n",
       "      <td>0.857729</td>\n",
       "      <td>0.748387</td>\n",
       "    </tr>\n",
       "    <tr>\n",
       "      <th>5</th>\n",
       "      <td>0.742647</td>\n",
       "      <td>0.476146</td>\n",
       "      <td>Ada boost Classifier</td>\n",
       "      <td>0.777778</td>\n",
       "      <td>0.892651</td>\n",
       "      <td>0.767742</td>\n",
       "    </tr>\n",
       "    <tr>\n",
       "      <th>6</th>\n",
       "      <td>0.720588</td>\n",
       "      <td>NaN</td>\n",
       "      <td>KNN</td>\n",
       "      <td>0.734104</td>\n",
       "      <td>0.787244</td>\n",
       "      <td>0.721591</td>\n",
       "    </tr>\n",
       "    <tr>\n",
       "      <th>7</th>\n",
       "      <td>0.738971</td>\n",
       "      <td>NaN</td>\n",
       "      <td>SVM</td>\n",
       "      <td>0.795775</td>\n",
       "      <td>0.828757</td>\n",
       "      <td>0.729032</td>\n",
       "    </tr>\n",
       "  </tbody>\n",
       "</table>\n",
       "</div>"
      ],
      "text/plain": [
       "   Accuracy Score  Kappa Score                       Model  Precision Score  \\\n",
       "0        0.735294     0.467855                  Logisitic          0.794326   \n",
       "1        0.683824     0.352345   Decision Tree Classifier          0.716981   \n",
       "2        0.742647     0.480491   Random Forest Classifier          0.793103   \n",
       "3        0.676471     0.356149                Naive Bayes          0.726027   \n",
       "4        0.735294     0.463423         Xgboost Classifier          0.778523   \n",
       "5        0.742647     0.476146       Ada boost Classifier          0.777778   \n",
       "6        0.720588          NaN                        KNN          0.734104   \n",
       "7        0.738971          NaN                        SVM          0.795775   \n",
       "\n",
       "   ROC Score  Recall Score  \n",
       "0   0.824129      0.722581  \n",
       "1   0.819151      0.735484  \n",
       "2   0.876307      0.741935  \n",
       "3   0.827035      0.602273  \n",
       "4   0.857729      0.748387  \n",
       "5   0.892651      0.767742  \n",
       "6   0.787244      0.721591  \n",
       "7   0.828757      0.729032  "
      ]
     },
     "execution_count": 149,
     "metadata": {},
     "output_type": "execute_result"
    }
   ],
   "source": [
    "review"
   ]
  },
  {
   "cell_type": "markdown",
   "id": "f9621ae6",
   "metadata": {},
   "source": [
    "### According to the evaluation , we can use either xgboost or ada boost as they are the best models."
   ]
  }
 ],
 "metadata": {
  "kernelspec": {
   "display_name": "Python 3",
   "language": "python",
   "name": "python3"
  },
  "language_info": {
   "codemirror_mode": {
    "name": "ipython",
    "version": 3
   },
   "file_extension": ".py",
   "mimetype": "text/x-python",
   "name": "python",
   "nbconvert_exporter": "python",
   "pygments_lexer": "ipython3",
   "version": "3.8.8"
  }
 },
 "nbformat": 4,
 "nbformat_minor": 5
}
